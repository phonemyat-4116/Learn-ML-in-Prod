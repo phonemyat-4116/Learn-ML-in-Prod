{
 "cells": [
  {
   "cell_type": "code",
   "execution_count": 1,
   "metadata": {},
   "outputs": [],
   "source": [
    "import mlflow\n",
    "import time"
   ]
  },
  {
   "cell_type": "code",
   "execution_count": 2,
   "metadata": {},
   "outputs": [
    {
     "data": {
      "text/plain": [
       "<Experiment: artifact_location='mlflow-artifacts:/2', creation_time=1726977140826, experiment_id='2', last_update_time=1726977140826, lifecycle_stage='active', name='v5_tf_mlflow_end_to_end', tags={}>"
      ]
     },
     "execution_count": 2,
     "metadata": {},
     "output_type": "execute_result"
    }
   ],
   "source": [
    "mlflow_uri = \"http://127.0.0.1:8888/\"\n",
    "mlflow.set_tracking_uri(mlflow_uri)\n",
    "time.sleep(5)\n",
    "#mlflow.set_experiment(mlflow_uri)\n",
    "mlflow.set_experiment(\"v5_tf_mlflow_end_to_end\")"
   ]
  },
  {
   "cell_type": "code",
   "execution_count": 3,
   "metadata": {},
   "outputs": [],
   "source": [
    "import os\n",
    "import tensorflow as tf\n",
    "tf.config.list_physical_devices('GPU')\n",
    "img_size = 150\n",
    "batch_size = 16"
   ]
  },
  {
   "cell_type": "code",
   "execution_count": 4,
   "metadata": {},
   "outputs": [],
   "source": [
    "root_path = r\"/Users/tharhtet/Documents/github/ML-in-Prod-batch-1/5_DeepLearning/tf_best_practices/cats_and_dogs_filtered\""
   ]
  },
  {
   "cell_type": "code",
   "execution_count": 5,
   "metadata": {},
   "outputs": [
    {
     "name": "stdout",
     "output_type": "stream",
     "text": [
      "Found 248 images belonging to 2 classes.\n"
     ]
    }
   ],
   "source": [
    "tf_generator = tf.keras.preprocessing.image.ImageDataGenerator(\n",
    "    featurewise_std_normalization=False,\n",
    "    samplewise_std_normalization=False,\n",
    "    width_shift_range=0.1,\n",
    "    height_shift_range=0.1,\n",
    "    horizontal_flip=True,\n",
    "    vertical_flip=True,\n",
    "    rescale= 1/255.0\n",
    "\n",
    ")\n",
    "\n",
    "test_gen = tf_generator.flow_from_directory(\n",
    "    root_path+\"/test\",\n",
    "    target_size=(img_size, img_size),\n",
    "    class_mode='binary', #'categorical',\n",
    "    batch_size=batch_size,\n",
    "    shuffle=True,\n",
    ")\n",
    "\n",
    "\n",
    "#By calling .repeat(), the dataset will loop indefinitely, providing data for all the epochs."
   ]
  },
  {
   "cell_type": "code",
   "execution_count": 11,
   "metadata": {},
   "outputs": [
    {
     "name": "stdout",
     "output_type": "stream",
     "text": [
      "16\n"
     ]
    }
   ],
   "source": [
    "for image,label in test_gen:\n",
    "    print(len(image))\n",
    "    test_img = image\n",
    "    test_label = label\n",
    "    break"
   ]
  },
  {
   "cell_type": "code",
   "execution_count": 7,
   "metadata": {},
   "outputs": [
    {
     "name": "stderr",
     "output_type": "stream",
     "text": [
      "/opt/anaconda3/envs/dev_env/lib/python3.10/site-packages/tqdm/auto.py:21: TqdmWarning: IProgress not found. Please update jupyter and ipywidgets. See https://ipywidgets.readthedocs.io/en/stable/user_install.html\n",
      "  from .autonotebook import tqdm as notebook_tqdm\n",
      "Downloading artifacts: 100%|██████████| 6/6 [00:04<00:00,  1.32it/s]   \n"
     ]
    }
   ],
   "source": [
    "import mlflow\n",
    "logged_model = 'runs:/33c4ebd877844aa59d881ccf9f4954e1/cat_and_dog_model'\n",
    "\n",
    "# Load model as a PyFuncModel.\n",
    "loaded_model = mlflow.pyfunc.load_model(logged_model)"
   ]
  },
  {
   "cell_type": "code",
   "execution_count": 8,
   "metadata": {},
   "outputs": [
    {
     "name": "stdout",
     "output_type": "stream",
     "text": [
      "[1. 1. 0. 0. 1. 1. 1. 1. 0. 0. 0. 1. 0. 0. 0. 0.]\n"
     ]
    }
   ],
   "source": [
    "print(test_label)"
   ]
  },
  {
   "cell_type": "code",
   "execution_count": 9,
   "metadata": {},
   "outputs": [
    {
     "name": "stdout",
     "output_type": "stream",
     "text": [
      "\u001b[1m1/1\u001b[0m \u001b[32m━━━━━━━━━━━━━━━━━━━━\u001b[0m\u001b[37m\u001b[0m \u001b[1m0s\u001b[0m 49ms/step\n",
      "[[0.6535938 ]\n",
      " [0.78264064]\n",
      " [0.54850334]\n",
      " [0.5309534 ]\n",
      " [0.51534986]\n",
      " [0.6922578 ]\n",
      " [0.3688799 ]\n",
      " [0.57882786]\n",
      " [0.38975346]\n",
      " [0.598549  ]\n",
      " [0.50652456]\n",
      " [0.8094746 ]\n",
      " [0.6756455 ]\n",
      " [0.49007854]\n",
      " [0.5248701 ]\n",
      " [0.5752574 ]]\n"
     ]
    }
   ],
   "source": [
    "y_pred = loaded_model.predict(test_img)\n",
    "print(y_pred)"
   ]
  },
  {
   "cell_type": "markdown",
   "metadata": {},
   "source": [
    "### Register the model"
   ]
  },
  {
   "cell_type": "code",
   "execution_count": 11,
   "metadata": {},
   "outputs": [
    {
     "name": "stderr",
     "output_type": "stream",
     "text": [
      "Registered model 'ths_cat_and_dog_model' already exists. Creating a new version of this model...\n",
      "2024/09/22 11:23:42 INFO mlflow.store.model_registry.abstract_store: Waiting up to 300 seconds for model version to finish creation. Model name: ths_cat_and_dog_model, version 3\n"
     ]
    },
    {
     "name": "stdout",
     "output_type": "stream",
     "text": [
      "model_version :  <ModelVersion: aliases=[], creation_timestamp=1726979022264, current_stage='None', description='', last_updated_timestamp=1726979022264, name='ths_cat_and_dog_model', run_id='33c4ebd877844aa59d881ccf9f4954e1', run_link='', source='mlflow-artifacts:/2/33c4ebd877844aa59d881ccf9f4954e1/artifacts/cat_and_dog_model', status='READY', status_message='', tags={}, user_id='', version='3'>\n"
     ]
    },
    {
     "name": "stderr",
     "output_type": "stream",
     "text": [
      "Created version '3' of model 'ths_cat_and_dog_model'.\n"
     ]
    }
   ],
   "source": [
    "model_name = \"ths_cat_and_dog_model\"\n",
    "model_uri = 'runs:/33c4ebd877844aa59d881ccf9f4954e1/cat_and_dog_model'\n",
    "model_version = mlflow.register_model(model_uri,model_name)\n",
    "print(\"model_version : \",model_version)"
   ]
  },
  {
   "cell_type": "code",
   "execution_count": 12,
   "metadata": {},
   "outputs": [
    {
     "name": "stderr",
     "output_type": "stream",
     "text": [
      "Downloading artifacts: 100%|██████████| 6/6 [00:04<00:00,  1.33it/s]   \n"
     ]
    },
    {
     "name": "stdout",
     "output_type": "stream",
     "text": [
      "\u001b[1m1/1\u001b[0m \u001b[32m━━━━━━━━━━━━━━━━━━━━\u001b[0m\u001b[37m\u001b[0m \u001b[1m0s\u001b[0m 47ms/step\n",
      "[[0.37041312]\n",
      " [0.1400522 ]\n",
      " [0.30446422]\n",
      " [0.72236407]\n",
      " [0.5680767 ]\n",
      " [0.5107035 ]\n",
      " [0.27472338]\n",
      " [0.41546285]\n",
      " [0.50497156]\n",
      " [0.319856  ]\n",
      " [0.2560752 ]\n",
      " [0.4645527 ]\n",
      " [0.6102773 ]\n",
      " [0.5221177 ]\n",
      " [0.33477825]\n",
      " [0.60212994]]\n"
     ]
    }
   ],
   "source": [
    "# load model by tag\n",
    "model_name = \"ths_cat_and_dog_model\"\n",
    "load_model_uri = f\"models:/{model_name}@prod_test\"\n",
    "loaded_model = mlflow.pyfunc.load_model(load_model_uri)\n",
    "y_pred = loaded_model.predict(test_img)\n",
    "print(y_pred)"
   ]
  },
  {
   "cell_type": "code",
   "execution_count": null,
   "metadata": {},
   "outputs": [],
   "source": []
  }
 ],
 "metadata": {
  "kernelspec": {
   "display_name": "dev_env",
   "language": "python",
   "name": "python3"
  },
  "language_info": {
   "codemirror_mode": {
    "name": "ipython",
    "version": 3
   },
   "file_extension": ".py",
   "mimetype": "text/x-python",
   "name": "python",
   "nbconvert_exporter": "python",
   "pygments_lexer": "ipython3",
   "version": "3.10.14"
  }
 },
 "nbformat": 4,
 "nbformat_minor": 2
}
