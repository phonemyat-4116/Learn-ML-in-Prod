{
 "cells": [
  {
   "cell_type": "markdown",
   "metadata": {},
   "source": [
    "### How to restore deleted MLflow experiment"
   ]
  },
  {
   "cell_type": "markdown",
   "metadata": {},
   "source": [
    "1. Create MLflow experiment from MLflow UI. name  = mlflow_test\n",
    "And store exp_id (eg: 904123839726578774)\n",
    "\n",
    "2. Delete the \"mlflow_test\" experiment.\n",
    "\n",
    "3. Check the folder name in \"904123839726578774\" in ```mlruns/.trash/```\n",
    "\n",
    "4. To restore the that experiment. Please move that folder to ```mlruns/```\n",
    "\n",
    "5. Set \"active\" to \"lifecycle_stage\" from the file ```mlruns/904123839726578774/meta.yaml```\n",
    "\n",
    "6. Refresh the mlflow UI."
   ]
  },
  {
   "cell_type": "code",
   "execution_count": 4,
   "metadata": {},
   "outputs": [],
   "source": [
    "### Create MLflow exp with tags"
   ]
  },
  {
   "cell_type": "code",
   "execution_count": 5,
   "metadata": {},
   "outputs": [],
   "source": [
    "from pathlib import Path\n",
    "from mlflow import MlflowClient"
   ]
  },
  {
   "cell_type": "code",
   "execution_count": 7,
   "metadata": {},
   "outputs": [],
   "source": [
    "# Create an experiment with a name that is unique and case sensitive.\n",
    "client = MlflowClient()\n",
    "experiment_id = client.create_experiment(\n",
    "    \"Social NLP Experiments\",\n",
    "    artifact_location=Path.cwd().joinpath(\"mlruns\").as_uri(),\n",
    "    tags={\"version\": \"v1\", \"priority\": \"P1\"},\n",
    ")\n",
    "client.set_experiment_tag(experiment_id, \"nlp.framework\", \"Spark NLP\")"
   ]
  },
  {
   "cell_type": "markdown",
   "metadata": {},
   "source": [
    "### ML flow search experiments"
   ]
  },
  {
   "cell_type": "code",
   "execution_count": 16,
   "metadata": {},
   "outputs": [
    {
     "name": "stdout",
     "output_type": "stream",
     "text": [
      "<Experiment: artifact_location='file:///Users/tharhtet/Documents/github/ML-in-Prod-batch-1/8_Experiment_Tracking/mlruns/189731941550490138', creation_time=1726756269372, experiment_id='189731941550490138', last_update_time=1726756269372, lifecycle_stage='active', name='v2_logging_api', tags={}>\n"
     ]
    }
   ],
   "source": [
    "from mlflow.tracking import MlflowClient\n",
    "\n",
    "client = MlflowClient()\n",
    "apples_experiment = client.search_experiments(\n",
    "    filter_string=\"name='v2_logging_api'\"\n",
    ")\n",
    "for cur in apples_experiment:\n",
    "    print(cur)"
   ]
  },
  {
   "cell_type": "code",
   "execution_count": null,
   "metadata": {},
   "outputs": [],
   "source": []
  },
  {
   "cell_type": "code",
   "execution_count": null,
   "metadata": {},
   "outputs": [],
   "source": []
  }
 ],
 "metadata": {
  "kernelspec": {
   "display_name": "ths",
   "language": "python",
   "name": "python3"
  },
  "language_info": {
   "codemirror_mode": {
    "name": "ipython",
    "version": 3
   },
   "file_extension": ".py",
   "mimetype": "text/x-python",
   "name": "python",
   "nbconvert_exporter": "python",
   "pygments_lexer": "ipython3",
   "version": "3.10.14"
  }
 },
 "nbformat": 4,
 "nbformat_minor": 2
}
