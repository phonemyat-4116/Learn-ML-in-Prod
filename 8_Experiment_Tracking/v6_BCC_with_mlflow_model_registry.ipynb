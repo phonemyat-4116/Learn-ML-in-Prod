{
 "cells": [
  {
   "cell_type": "code",
   "execution_count": 28,
   "metadata": {},
   "outputs": [],
   "source": [
    "from mlflow.tracking import MlflowClient\n",
    "import mlflow"
   ]
  },
  {
   "cell_type": "code",
   "execution_count": 29,
   "metadata": {},
   "outputs": [],
   "source": [
    "\n",
    "MLFLOW_TRACKING_URI = \"http://localhost:8080\"\n",
    "mlflow.set_tracking_uri(MLFLOW_TRACKING_URI)"
   ]
  },
  {
   "cell_type": "code",
   "execution_count": 30,
   "metadata": {},
   "outputs": [
    {
     "name": "stdout",
     "output_type": "stream",
     "text": [
      "1\n"
     ]
    }
   ],
   "source": [
    "exp_name = \"ths-cat-and-dog-experiment\"\n",
    "exp_id = \"738720322735546815\"\n",
    "mlflow.set_experiment(exp_name)\n",
    "client =  MlflowClient()\n",
    "runs = client.search_runs(experiment_ids=exp_id)\n",
    "print(len(runs))"
   ]
  },
  {
   "cell_type": "code",
   "execution_count": 31,
   "metadata": {},
   "outputs": [],
   "source": [
    "\n",
    "from mlflow.entities import ViewType\n",
    "\n",
    "runs = client.search_runs(\n",
    "    experiment_ids=exp_id,\n",
    "    filter_string=\"metrics.val_accuracy > .25\",\n",
    "    run_view_type=ViewType.ACTIVE_ONLY,\n",
    "    max_results = 3,\n",
    "order_by = ['metrics.val_acc ASC']\n",
    ")"
   ]
  },
  {
   "cell_type": "code",
   "execution_count": 32,
   "metadata": {},
   "outputs": [
    {
     "name": "stdout",
     "output_type": "stream",
     "text": [
      "run id: 9b86e9698949428a8e8188e80771e934, rmse: 0.4597\n"
     ]
    }
   ],
   "source": [
    "for run in runs:\n",
    "    print(f\"run id: {run.info.run_id}, rmse: {run.data.metrics['val_accuracy']:.4f}\")"
   ]
  },
  {
   "cell_type": "markdown",
   "metadata": {},
   "source": [
    "### Register the model"
   ]
  },
  {
   "cell_type": "code",
   "execution_count": 33,
   "metadata": {},
   "outputs": [
    {
     "name": "stderr",
     "output_type": "stream",
     "text": [
      "Registered model 'tf_bcc_model' already exists. Creating a new version of this model...\n",
      "2024/09/22 03:45:41 INFO mlflow.store.model_registry.abstract_store: Waiting up to 300 seconds for model version to finish creation. Model name: tf_bcc_model, version 3\n"
     ]
    },
    {
     "name": "stdout",
     "output_type": "stream",
     "text": [
      "model_version :  <ModelVersion: aliases=[], creation_timestamp=1726951541147, current_stage='None', description='', last_updated_timestamp=1726951541147, name='tf_bcc_model', run_id='9b86e9698949428a8e8188e80771e934', run_link='', source='mlflow-artifacts:/738720322735546815/9b86e9698949428a8e8188e80771e934/artifacts/tf_bcc_model', status='READY', status_message='', tags={}, user_id='', version='3'>\n"
     ]
    },
    {
     "name": "stderr",
     "output_type": "stream",
     "text": [
      "Created version '3' of model 'tf_bcc_model'.\n"
     ]
    }
   ],
   "source": [
    "import mlflow\n",
    "model_uri = 'runs:/9b86e9698949428a8e8188e80771e934/tf_bcc_model'\n",
    "model_name = \"tf_bcc_model\"\n",
    "model_version = mlflow.register_model(model_uri, model_name)\n",
    "print(\"model_version : \",model_version)\n"
   ]
  },
  {
   "cell_type": "code",
   "execution_count": 34,
   "metadata": {},
   "outputs": [],
   "source": [
    "\n",
    "client = MlflowClient()\n",
    "client.set_registered_model_alias(name=model_name,\n",
    "                                       version=\"1\", alias=\"production\")\n",
    "\n",
    "client.set_registered_model_alias(name=model_name,\n",
    "                                       version=\"2\", alias=\"prod_dep\")"
   ]
  },
  {
   "cell_type": "markdown",
   "metadata": {},
   "source": []
  },
  {
   "cell_type": "markdown",
   "metadata": {},
   "source": [
    "### Load model by tag"
   ]
  },
  {
   "cell_type": "code",
   "execution_count": 1,
   "metadata": {},
   "outputs": [],
   "source": [
    "import mlflow\n",
    "MLFLOW_TRACKING_URI = \"http://localhost:8080\"\n",
    "mlflow.set_tracking_uri(MLFLOW_TRACKING_URI)"
   ]
  },
  {
   "cell_type": "code",
   "execution_count": 2,
   "metadata": {},
   "outputs": [
    {
     "name": "stderr",
     "output_type": "stream",
     "text": [
      "/opt/anaconda3/envs/dev_env/lib/python3.10/site-packages/tqdm/auto.py:21: TqdmWarning: IProgress not found. Please update jupyter and ipywidgets. See https://ipywidgets.readthedocs.io/en/stable/user_install.html\n",
      "  from .autonotebook import tqdm as notebook_tqdm\n"
     ]
    },
    {
     "name": "stdout",
     "output_type": "stream",
     "text": [
      "models:/tf_bcc_model@production\n"
     ]
    },
    {
     "name": "stderr",
     "output_type": "stream",
     "text": [
      "Downloading artifacts: 100%|██████████| 6/6 [00:02<00:00,  2.14it/s]   \n",
      "2024/09/22 03:52:17 INFO mlflow.pyfunc: To install the dependencies that were used to train the model, run the following command: '%pip install -r /var/folders/xd/3z5vvpds0zxf_pypxd4cn3d80000gn/T/tmpeydnuruz/requirements.txt'.\n"
     ]
    },
    {
     "name": "stdout",
     "output_type": "stream",
     "text": [
      "/var/folders/xd/3z5vvpds0zxf_pypxd4cn3d80000gn/T/tmpeydnuruz/requirements.txt\n"
     ]
    }
   ],
   "source": [
    "\n",
    "model_name = \"tf_bcc_model\"\n",
    "logged_model_uri = f'models:/{model_name}@production'\n",
    "print(logged_model_uri)\n",
    "\n",
    "# Load model as a PyFuncModel.\n",
    "model_requirement_txt = mlflow.pyfunc.get_model_dependencies(logged_model_uri)\n",
    "print(model_requirement_txt)"
   ]
  },
  {
   "cell_type": "code",
   "execution_count": 3,
   "metadata": {},
   "outputs": [
    {
     "name": "stderr",
     "output_type": "stream",
     "text": [
      "Downloading artifacts: 100%|██████████| 6/6 [00:02<00:00,  2.09it/s]   \n"
     ]
    }
   ],
   "source": [
    "loaded_model = mlflow.pyfunc.load_model(logged_model_uri)"
   ]
  },
  {
   "cell_type": "code",
   "execution_count": 4,
   "metadata": {},
   "outputs": [
    {
     "data": {
      "text/plain": [
       "mlflow.pyfunc.PyFuncModel"
      ]
     },
     "execution_count": 4,
     "metadata": {},
     "output_type": "execute_result"
    }
   ],
   "source": [
    "type(loaded_model)"
   ]
  },
  {
   "cell_type": "code",
   "execution_count": 5,
   "metadata": {},
   "outputs": [
    {
     "name": "stdout",
     "output_type": "stream",
     "text": [
      "Found 248 images belonging to 2 classes.\n"
     ]
    }
   ],
   "source": [
    "import tensorflow as tf\n",
    "\n",
    "img_size = 128\n",
    "batch_size = 16\n",
    "\n",
    "root_path = r\"/Users/tharhtet/Documents/github/ML-in-Prod-batch-1/5_DeepLearning/tf_best_practices/cats_and_dogs_filtered\"\n",
    "tf_generator = tf.keras.preprocessing.image.ImageDataGenerator(\n",
    "    featurewise_std_normalization=False,\n",
    "    samplewise_std_normalization=False,\n",
    "    width_shift_range=0.1,\n",
    "    height_shift_range=0.1,\n",
    "    horizontal_flip=True,\n",
    "    vertical_flip=True,\n",
    "    rescale= 1/255.0\n",
    "\n",
    ")\n",
    "\n",
    "\n",
    "test_gen = tf_generator.flow_from_directory(\n",
    "    root_path+\"/test\",\n",
    "    target_size=(img_size, img_size),\n",
    "    class_mode='binary', #'categorical',\n",
    "    batch_size=batch_size,\n",
    "    shuffle=True,\n",
    ")\n",
    "\n",
    "\n",
    "#By calling .repeat(), the dataset will loop indefinitely, providing data for all the epochs."
   ]
  },
  {
   "cell_type": "code",
   "execution_count": 6,
   "metadata": {},
   "outputs": [
    {
     "name": "stdout",
     "output_type": "stream",
     "text": [
      "16\n"
     ]
    }
   ],
   "source": [
    "test_img = None\n",
    "test_label = None\n",
    "for image,label in test_gen:\n",
    "    print(len(image))\n",
    "    test_img = image\n",
    "    test_label = label\n",
    "    break"
   ]
  },
  {
   "cell_type": "code",
   "execution_count": 7,
   "metadata": {},
   "outputs": [
    {
     "name": "stdout",
     "output_type": "stream",
     "text": [
      "(16, 128, 128, 3)\n"
     ]
    }
   ],
   "source": [
    "print(test_img.shape)"
   ]
  },
  {
   "cell_type": "code",
   "execution_count": 8,
   "metadata": {},
   "outputs": [
    {
     "name": "stdout",
     "output_type": "stream",
     "text": [
      "\u001b[1m1/1\u001b[0m \u001b[32m━━━━━━━━━━━━━━━━━━━━\u001b[0m\u001b[37m\u001b[0m \u001b[1m0s\u001b[0m 87ms/step\n",
      "[[0.51818943]\n",
      " [0.5181898 ]\n",
      " [0.51818955]\n",
      " [0.51818967]\n",
      " [0.51818955]\n",
      " [0.51818955]\n",
      " [0.51818955]\n",
      " [0.51818955]\n",
      " [0.51818955]\n",
      " [0.5181919 ]\n",
      " [0.5181898 ]\n",
      " [0.51818955]\n",
      " [0.51818955]\n",
      " [0.51818955]\n",
      " [0.51818955]\n",
      " [0.51819015]]\n"
     ]
    }
   ],
   "source": [
    "\n",
    "y_pred = loaded_model.predict(test_img)\n",
    "print(y_pred)"
   ]
  },
  {
   "cell_type": "code",
   "execution_count": null,
   "metadata": {},
   "outputs": [],
   "source": []
  },
  {
   "cell_type": "code",
   "execution_count": null,
   "metadata": {},
   "outputs": [],
   "source": []
  }
 ],
 "metadata": {
  "kernelspec": {
   "display_name": "ths",
   "language": "python",
   "name": "python3"
  },
  "language_info": {
   "codemirror_mode": {
    "name": "ipython",
    "version": 3
   },
   "file_extension": ".py",
   "mimetype": "text/x-python",
   "name": "python",
   "nbconvert_exporter": "python",
   "pygments_lexer": "ipython3",
   "version": "3.10.14"
  }
 },
 "nbformat": 4,
 "nbformat_minor": 2
}
