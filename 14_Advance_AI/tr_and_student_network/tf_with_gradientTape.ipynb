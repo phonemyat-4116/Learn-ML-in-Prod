{
 "cells": [
  {
   "cell_type": "code",
   "execution_count": 1,
   "metadata": {},
   "outputs": [],
   "source": [
    "import tensorflow as tf\n",
    "\n",
    "# Load and preprocess the MNIST dataset\n",
    "(x_train, y_train), (x_test, y_test) = tf.keras.datasets.mnist.load_data()\n",
    "x_train, x_test = x_train / 255.0, x_test / 255.0  # Normalize to [0, 1]\n",
    "x_train = x_train.reshape(-1, 28 * 28)  # Flatten images\n",
    "x_test = x_test.reshape(-1, 28 * 28)\n",
    "\n",
    "# Convert labels to one-hot encoding\n",
    "y_train_onehot = tf.keras.utils.to_categorical(y_train, num_classes=10)\n",
    "y_test_onehot = tf.keras.utils.to_categorical(y_test, num_classes=10)\n"
   ]
  },
  {
   "cell_type": "code",
   "execution_count": 2,
   "metadata": {},
   "outputs": [],
   "source": [
    "class SimpleNN(tf.keras.Model):\n",
    "    def __init__(self):\n",
    "        super(SimpleNN, self).__init__()\n",
    "        self.dense1 = tf.keras.layers.Dense(128, activation='relu')\n",
    "        self.dense2 = tf.keras.layers.Dense(10, activation='softmax')\n",
    "\n",
    "    def call(self, inputs):\n",
    "        x = self.dense1(inputs)\n",
    "        return self.dense2(x)"
   ]
  },
  {
   "cell_type": "code",
   "execution_count": 3,
   "metadata": {},
   "outputs": [],
   "source": [
    "model = SimpleNN()\n",
    "optimizer = tf.keras.optimizers.Adam(learning_rate=0.001)\n",
    "loss_fn = tf.keras.losses.CategoricalCrossentropy()"
   ]
  },
  {
   "cell_type": "code",
   "execution_count": 4,
   "metadata": {},
   "outputs": [
    {
     "name": "stdout",
     "output_type": "stream",
     "text": [
      "num_batches :  1875\n"
     ]
    }
   ],
   "source": [
    "epochs = 3\n",
    "batch_size = 32\n",
    "num_batches = len(x_train) // batch_size\n",
    "\n",
    "print(\"num_batches : \",num_batches)"
   ]
  },
  {
   "cell_type": "code",
   "execution_count": 5,
   "metadata": {},
   "outputs": [
    {
     "data": {
      "text/plain": [
       "[]"
      ]
     },
     "execution_count": 5,
     "metadata": {},
     "output_type": "execute_result"
    }
   ],
   "source": [
    "model.trainable_variables"
   ]
  },
  {
   "cell_type": "code",
   "execution_count": null,
   "metadata": {},
   "outputs": [
    {
     "name": "stdout",
     "output_type": "stream",
     "text": [
      "Epoch 1/3\n",
      "Batch 0/1875, Loss: 2.3726\n",
      "Batch 200/1875, Loss: 0.4098\n",
      "Batch 400/1875, Loss: 0.1856\n",
      "Batch 600/1875, Loss: 0.2085\n",
      "Batch 800/1875, Loss: 0.1423\n",
      "Batch 1000/1875, Loss: 0.4300\n",
      "Batch 1200/1875, Loss: 0.1640\n",
      "Batch 1400/1875, Loss: 0.2432\n",
      "Batch 1600/1875, Loss: 0.2447\n",
      "Batch 1800/1875, Loss: 0.1553\n",
      "Epoch 2/3\n",
      "Batch 0/1875, Loss: 0.0684\n",
      "Batch 200/1875, Loss: 0.0947\n",
      "Batch 400/1875, Loss: 0.1066\n",
      "Batch 600/1875, Loss: 0.0612\n",
      "Batch 800/1875, Loss: 0.0572\n",
      "Batch 1000/1875, Loss: 0.2744\n",
      "Batch 1200/1875, Loss: 0.0911\n",
      "Batch 1400/1875, Loss: 0.1518\n",
      "Batch 1600/1875, Loss: 0.1669\n",
      "Batch 1800/1875, Loss: 0.1100\n",
      "Epoch 3/3\n",
      "Batch 0/1875, Loss: 0.0491\n",
      "Batch 200/1875, Loss: 0.0724\n",
      "Batch 400/1875, Loss: 0.1183\n",
      "Batch 600/1875, Loss: 0.0506\n",
      "Batch 800/1875, Loss: 0.0357\n",
      "Batch 1000/1875, Loss: 0.1584\n",
      "Batch 1200/1875, Loss: 0.0716\n",
      "Batch 1400/1875, Loss: 0.0802\n",
      "Batch 1600/1875, Loss: 0.1040\n",
      "Batch 1800/1875, Loss: 0.0754\n"
     ]
    }
   ],
   "source": [
    "\n",
    "for epoch in range(epochs):\n",
    "    print(f\"Epoch {epoch + 1}/{epochs}\")\n",
    "\n",
    "    #new models creations\n",
    "    # set weights from best model\n",
    "    \n",
    "    for i in range(num_batches):\n",
    "        # Get a batch of data\n",
    "        start = i * batch_size\n",
    "        end = start + batch_size\n",
    "        x_batch = x_train[start:end]\n",
    "        y_batch = y_train_onehot[start:end]\n",
    "        \n",
    "        with tf.GradientTape() as tape:\n",
    "            predictions = model(x_batch, training=True)  # Forward pass\n",
    "            loss = loss_fn(y_batch, predictions)        # Compute loss\n",
    "        \n",
    "\n",
    "        gradients = tape.gradient(loss, model.trainable_variables) \n",
    "      \n",
    "        optimizer.apply_gradients(zip(gradients, model.trainable_variables))  # Update weights\n",
    "\n",
    "        if i % 200 == 0:  # Print progress every 200 batches\n",
    "            print(f\"Batch {i}/{num_batches}, Loss: {loss.numpy():.4f}\")\n",
    "\n",
    "        "
   ]
  },
  {
   "cell_type": "code",
   "execution_count": 7,
   "metadata": {},
   "outputs": [
    {
     "name": "stdout",
     "output_type": "stream",
     "text": [
      "Test Loss: 0.1047, Test Accuracy: 0.9673\n"
     ]
    }
   ],
   "source": [
    "# Evaluate the model\n",
    "test_loss = loss_fn(y_test_onehot, model(x_test))\n",
    "test_accuracy = tf.keras.metrics.categorical_accuracy(y_test_onehot, model(x_test))\n",
    "print(f\"Test Loss: {test_loss.numpy():.4f}, Test Accuracy: {tf.reduce_mean(test_accuracy).numpy():.4f}\")"
   ]
  },
  {
   "cell_type": "code",
   "execution_count": null,
   "metadata": {},
   "outputs": [],
   "source": []
  },
  {
   "cell_type": "code",
   "execution_count": null,
   "metadata": {},
   "outputs": [],
   "source": []
  }
 ],
 "metadata": {
  "kernelspec": {
   "display_name": "dev_env",
   "language": "python",
   "name": "python3"
  },
  "language_info": {
   "codemirror_mode": {
    "name": "ipython",
    "version": 3
   },
   "file_extension": ".py",
   "mimetype": "text/x-python",
   "name": "python",
   "nbconvert_exporter": "python",
   "pygments_lexer": "ipython3",
   "version": "3.10.14"
  }
 },
 "nbformat": 4,
 "nbformat_minor": 2
}
