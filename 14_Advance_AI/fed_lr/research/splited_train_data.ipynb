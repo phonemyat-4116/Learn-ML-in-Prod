{
 "cells": [
  {
   "cell_type": "code",
   "execution_count": 1,
   "metadata": {},
   "outputs": [],
   "source": [
    "import tensorflow as tf\n",
    "\n",
    "# Load and preprocess the MNIST dataset\n",
    "(x_train, y_train), (x_test, y_test) = tf.keras.datasets.mnist.load_data()\n",
    "x_train, x_test = x_train / 255.0, x_test / 255.0  # Normalize to [0, 1]\n",
    "x_train = x_train.reshape(-1, 28 * 28)  # Flatten images\n",
    "x_test = x_test.reshape(-1, 28 * 28)\n",
    "\n"
   ]
  },
  {
   "cell_type": "code",
   "execution_count": 2,
   "metadata": {},
   "outputs": [],
   "source": [
    "import numpy as np\n",
    "\n",
    "def exclude_digits(x_data, y_data, excluded_digits):\n",
    "    mask = ~np.isin(y_data, excluded_digits)  # Create a mask for non-excluded digits\n",
    "    x_filtered = x_data[mask]  # Filter input data\n",
    "    y_filtered = y_data[mask]  # Filter labels\n",
    "    return x_filtered, y_filtered"
   ]
  },
  {
   "cell_type": "code",
   "execution_count": 3,
   "metadata": {},
   "outputs": [],
   "source": [
    "# Example usage:\n",
    "excluded_digits = [0, 1,2]  # Exclude digits 0 and 1\n",
    "x_train_filtered, y_train_filtered = exclude_digits(x_train, y_train, excluded_digits)"
   ]
  },
  {
   "cell_type": "code",
   "execution_count": 4,
   "metadata": {},
   "outputs": [
    {
     "data": {
      "text/plain": [
       "{3, 4, 5, 6, 7, 8, 9}"
      ]
     },
     "execution_count": 4,
     "metadata": {},
     "output_type": "execute_result"
    }
   ],
   "source": [
    "set(y_train_filtered)"
   ]
  },
  {
   "cell_type": "code",
   "execution_count": 5,
   "metadata": {},
   "outputs": [],
   "source": [
    "class SimpleNN(tf.keras.Model):\n",
    "    def __init__(self):\n",
    "        super(SimpleNN, self).__init__()\n",
    "        self.dense1 = tf.keras.layers.Dense(128, activation='relu')\n",
    "        self.dense2 = tf.keras.layers.Dense(10, activation='softmax')\n",
    "\n",
    "    def call(self, inputs):\n",
    "        x = self.dense1(inputs)\n",
    "        return self.dense2(x)"
   ]
  },
  {
   "cell_type": "code",
   "execution_count": null,
   "metadata": {},
   "outputs": [],
   "source": [
    "\n",
    "\n"
   ]
  },
  {
   "cell_type": "code",
   "execution_count": 6,
   "metadata": {},
   "outputs": [],
   "source": [
    "def train_model(model,pth_x,pth_y):\n",
    "    batch_size = 64\n",
    "    epochs = 20\n",
    "    num_batches = len(pth_x) // batch_size\n",
    "    optimizer = tf.keras.optimizers.Adam(learning_rate=0.001)\n",
    "    loss_fn = tf.keras.losses.CategoricalCrossentropy()\n",
    "\n",
    "    # Convert labels to one-hot encoding\n",
    "    pth_y_onehot = tf.keras.utils.to_categorical(pth_y, num_classes=10)\n",
    "\n",
    "    \n",
    "    for epoch in range(epochs):\n",
    "        print(f\"Epoch {epoch + 1}/{epochs}\")\n",
    "        for i in range(num_batches):\n",
    "            # Get a batch of data\n",
    "            start = i * batch_size\n",
    "            end = start + batch_size\n",
    "            x_batch = pth_x[start:end]\n",
    "            y_batch = pth_y_onehot[start:end]\n",
    "            \n",
    "            with tf.GradientTape() as tape:\n",
    "                predictions = model(x_batch, training=True)  # Forward pass\n",
    "                loss = loss_fn(y_batch, predictions)        # Compute loss\n",
    "            \n",
    "\n",
    "            gradients = tape.gradient(loss, model.trainable_variables) \n",
    "        \n",
    "            optimizer.apply_gradients(zip(gradients, model.trainable_variables))  # Update weights\n",
    "\n",
    "            if i % 200 == 0:  # Print progress every 200 batches\n",
    "                print(f\"Batch {i}/{num_batches}, Loss: {loss.numpy():.4f}\")"
   ]
  },
  {
   "cell_type": "code",
   "execution_count": 7,
   "metadata": {},
   "outputs": [
    {
     "name": "stdout",
     "output_type": "stream",
     "text": [
      "y_train_1 :  {0, 2, 4, 5, 6, 8, 9}\n",
      "40862\n"
     ]
    }
   ],
   "source": [
    "x_train_1, y_train_1  = exclude_digits(x_train, y_train, excluded_digits=[1, 3, 7])\n",
    "print(\"y_train_1 : \",set(y_train_1))\n",
    "print(len(y_train_1))"
   ]
  },
  {
   "cell_type": "code",
   "execution_count": 8,
   "metadata": {},
   "outputs": [
    {
     "name": "stdout",
     "output_type": "stream",
     "text": [
      "y_train_2 :  {0, 1, 3, 4, 6, 7, 9}\n",
      "42770\n"
     ]
    }
   ],
   "source": [
    "x_train_2, y_train_2 = exclude_digits(x_train, y_train, excluded_digits=[2, 5, 8])\n",
    "print(\"y_train_2 : \",set(y_train_2))\n",
    "print(len(y_train_2))"
   ]
  },
  {
   "cell_type": "code",
   "execution_count": 9,
   "metadata": {},
   "outputs": [
    {
     "name": "stdout",
     "output_type": "stream",
     "text": [
      "y_train_3 :  {0, 1, 2, 3, 5, 7, 8}\n",
      "42291\n"
     ]
    }
   ],
   "source": [
    "x_train_3, y_train_3 = exclude_digits(x_train, y_train, excluded_digits=[4, 6, 9])\n",
    "print(\"y_train_3 : \",set(y_train_3))\n",
    "print(len(y_train_3))"
   ]
  },
  {
   "cell_type": "code",
   "execution_count": 10,
   "metadata": {},
   "outputs": [
    {
     "name": "stdout",
     "output_type": "stream",
     "text": [
      "Epoch 1/20\n",
      "Batch 0/638, Loss: 2.5099\n",
      "Batch 200/638, Loss: 0.0974\n",
      "Batch 400/638, Loss: 0.2456\n",
      "Batch 600/638, Loss: 0.1407\n",
      "Epoch 2/20\n",
      "Batch 0/638, Loss: 0.1467\n",
      "Batch 200/638, Loss: 0.0222\n",
      "Batch 400/638, Loss: 0.1414\n",
      "Batch 600/638, Loss: 0.0886\n",
      "Epoch 3/20\n",
      "Batch 0/638, Loss: 0.1397\n",
      "Batch 200/638, Loss: 0.0133\n",
      "Batch 400/638, Loss: 0.0887\n",
      "Batch 600/638, Loss: 0.0697\n",
      "Epoch 4/20\n",
      "Batch 0/638, Loss: 0.1272\n",
      "Batch 200/638, Loss: 0.0101\n",
      "Batch 400/638, Loss: 0.0680\n",
      "Batch 600/638, Loss: 0.0610\n",
      "Epoch 5/20\n",
      "Batch 0/638, Loss: 0.1166\n",
      "Batch 200/638, Loss: 0.0083\n",
      "Batch 400/638, Loss: 0.0572\n",
      "Batch 600/638, Loss: 0.0467\n",
      "Epoch 6/20\n",
      "Batch 0/638, Loss: 0.0966\n",
      "Batch 200/638, Loss: 0.0080\n",
      "Batch 400/638, Loss: 0.0493\n",
      "Batch 600/638, Loss: 0.0369\n",
      "Epoch 7/20\n",
      "Batch 0/638, Loss: 0.0750\n",
      "Batch 200/638, Loss: 0.0046\n",
      "Batch 400/638, Loss: 0.0283\n",
      "Batch 600/638, Loss: 0.0273\n",
      "Epoch 8/20\n",
      "Batch 0/638, Loss: 0.0586\n",
      "Batch 200/638, Loss: 0.0031\n",
      "Batch 400/638, Loss: 0.0148\n",
      "Batch 600/638, Loss: 0.0221\n",
      "Epoch 9/20\n",
      "Batch 0/638, Loss: 0.0444\n",
      "Batch 200/638, Loss: 0.0016\n",
      "Batch 400/638, Loss: 0.0091\n",
      "Batch 600/638, Loss: 0.0152\n",
      "Epoch 10/20\n",
      "Batch 0/638, Loss: 0.0314\n",
      "Batch 200/638, Loss: 0.0013\n",
      "Batch 400/638, Loss: 0.0057\n",
      "Batch 600/638, Loss: 0.0125\n",
      "Epoch 11/20\n",
      "Batch 0/638, Loss: 0.0225\n",
      "Batch 200/638, Loss: 0.0008\n",
      "Batch 400/638, Loss: 0.0060\n",
      "Batch 600/638, Loss: 0.0091\n",
      "Epoch 12/20\n",
      "Batch 0/638, Loss: 0.0184\n",
      "Batch 200/638, Loss: 0.0005\n",
      "Batch 400/638, Loss: 0.0057\n",
      "Batch 600/638, Loss: 0.0063\n",
      "Epoch 13/20\n",
      "Batch 0/638, Loss: 0.0102\n",
      "Batch 200/638, Loss: 0.0003\n",
      "Batch 400/638, Loss: 0.0032\n",
      "Batch 600/638, Loss: 0.0034\n",
      "Epoch 14/20\n",
      "Batch 0/638, Loss: 0.0051\n",
      "Batch 200/638, Loss: 0.0002\n",
      "Batch 400/638, Loss: 0.0017\n",
      "Batch 600/638, Loss: 0.0011\n",
      "Epoch 15/20\n",
      "Batch 0/638, Loss: 0.0196\n",
      "Batch 200/638, Loss: 0.0001\n",
      "Batch 400/638, Loss: 0.0113\n",
      "Batch 600/638, Loss: 0.0069\n",
      "Epoch 16/20\n",
      "Batch 0/638, Loss: 0.0118\n",
      "Batch 200/638, Loss: 0.0001\n",
      "Batch 400/638, Loss: 0.0004\n",
      "Batch 600/638, Loss: 0.0069\n",
      "Epoch 17/20\n",
      "Batch 0/638, Loss: 0.0042\n",
      "Batch 200/638, Loss: 0.0001\n",
      "Batch 400/638, Loss: 0.0031\n",
      "Batch 600/638, Loss: 0.0015\n",
      "Epoch 18/20\n",
      "Batch 0/638, Loss: 0.0009\n",
      "Batch 200/638, Loss: 0.0003\n",
      "Batch 400/638, Loss: 0.0071\n",
      "Batch 600/638, Loss: 0.0010\n",
      "Epoch 19/20\n",
      "Batch 0/638, Loss: 0.0193\n",
      "Batch 200/638, Loss: 0.0003\n",
      "Batch 400/638, Loss: 0.0012\n",
      "Batch 600/638, Loss: 0.0070\n",
      "Epoch 20/20\n",
      "Batch 0/638, Loss: 0.0028\n",
      "Batch 200/638, Loss: 0.0002\n",
      "Batch 400/638, Loss: 0.0002\n",
      "Batch 600/638, Loss: 0.0044\n"
     ]
    }
   ],
   "source": [
    "model1 = SimpleNN()\n",
    "train_model(model1, x_train_1, y_train_1)\n"
   ]
  },
  {
   "cell_type": "code",
   "execution_count": 11,
   "metadata": {},
   "outputs": [
    {
     "name": "stdout",
     "output_type": "stream",
     "text": [
      "Epoch 1/20\n",
      "Batch 0/668, Loss: 9.5915\n",
      "Batch 200/668, Loss: 0.1524\n",
      "Batch 400/668, Loss: 0.1326\n",
      "Batch 600/668, Loss: 0.0493\n",
      "Epoch 2/20\n",
      "Batch 0/668, Loss: 0.0189\n",
      "Batch 200/668, Loss: 0.0250\n",
      "Batch 400/668, Loss: 0.0455\n",
      "Batch 600/668, Loss: 0.0118\n",
      "Epoch 3/20\n",
      "Batch 0/668, Loss: 0.0117\n",
      "Batch 200/668, Loss: 0.0148\n",
      "Batch 400/668, Loss: 0.0129\n",
      "Batch 600/668, Loss: 0.0103\n",
      "Epoch 4/20\n",
      "Batch 0/668, Loss: 0.0097\n",
      "Batch 200/668, Loss: 0.0089\n",
      "Batch 400/668, Loss: 0.0063\n",
      "Batch 600/668, Loss: 0.0082\n",
      "Epoch 5/20\n",
      "Batch 0/668, Loss: 0.0074\n",
      "Batch 200/668, Loss: 0.0052\n",
      "Batch 400/668, Loss: 0.0030\n",
      "Batch 600/668, Loss: 0.0053\n",
      "Epoch 6/20\n",
      "Batch 0/668, Loss: 0.0058\n",
      "Batch 200/668, Loss: 0.0039\n",
      "Batch 400/668, Loss: 0.0023\n",
      "Batch 600/668, Loss: 0.0054\n",
      "Epoch 7/20\n",
      "Batch 0/668, Loss: 0.0048\n",
      "Batch 200/668, Loss: 0.0026\n",
      "Batch 400/668, Loss: 0.0022\n",
      "Batch 600/668, Loss: 0.0034\n",
      "Epoch 8/20\n",
      "Batch 0/668, Loss: 0.0041\n",
      "Batch 200/668, Loss: 0.0018\n",
      "Batch 400/668, Loss: 0.0009\n",
      "Batch 600/668, Loss: 0.0036\n",
      "Epoch 9/20\n",
      "Batch 0/668, Loss: 0.0041\n",
      "Batch 200/668, Loss: 0.0009\n",
      "Batch 400/668, Loss: 0.0007\n",
      "Batch 600/668, Loss: 0.0017\n",
      "Epoch 10/20\n",
      "Batch 0/668, Loss: 0.0022\n",
      "Batch 200/668, Loss: 0.0029\n",
      "Batch 400/668, Loss: 0.0066\n",
      "Batch 600/668, Loss: 0.0027\n",
      "Epoch 11/20\n",
      "Batch 0/668, Loss: 0.0056\n",
      "Batch 200/668, Loss: 0.0006\n",
      "Batch 400/668, Loss: 0.0002\n",
      "Batch 600/668, Loss: 0.0048\n",
      "Epoch 12/20\n",
      "Batch 0/668, Loss: 0.0021\n",
      "Batch 200/668, Loss: 0.0003\n",
      "Batch 400/668, Loss: 0.0002\n",
      "Batch 600/668, Loss: 0.0041\n",
      "Epoch 13/20\n",
      "Batch 0/668, Loss: 0.0023\n",
      "Batch 200/668, Loss: 0.0003\n",
      "Batch 400/668, Loss: 0.0001\n",
      "Batch 600/668, Loss: 0.0023\n",
      "Epoch 14/20\n",
      "Batch 0/668, Loss: 0.0015\n",
      "Batch 200/668, Loss: 0.0003\n",
      "Batch 400/668, Loss: 0.0001\n",
      "Batch 600/668, Loss: 0.0012\n",
      "Epoch 15/20\n",
      "Batch 0/668, Loss: 0.0011\n",
      "Batch 200/668, Loss: 0.0002\n",
      "Batch 400/668, Loss: 0.0001\n",
      "Batch 600/668, Loss: 0.0007\n",
      "Epoch 16/20\n",
      "Batch 0/668, Loss: 0.0007\n",
      "Batch 200/668, Loss: 0.0002\n",
      "Batch 400/668, Loss: 0.0001\n",
      "Batch 600/668, Loss: 0.0003\n",
      "Epoch 17/20\n",
      "Batch 0/668, Loss: 0.0006\n",
      "Batch 200/668, Loss: 0.0001\n",
      "Batch 400/668, Loss: 0.0000\n",
      "Batch 600/668, Loss: 0.0003\n",
      "Epoch 18/20\n",
      "Batch 0/668, Loss: 0.0005\n",
      "Batch 200/668, Loss: 0.0001\n",
      "Batch 400/668, Loss: 0.0000\n",
      "Batch 600/668, Loss: 0.0003\n",
      "Epoch 19/20\n",
      "Batch 0/668, Loss: 0.0003\n",
      "Batch 200/668, Loss: 0.0001\n",
      "Batch 400/668, Loss: 0.0000\n",
      "Batch 600/668, Loss: 0.0002\n",
      "Epoch 20/20\n",
      "Batch 0/668, Loss: 0.0003\n",
      "Batch 200/668, Loss: 0.0171\n",
      "Batch 400/668, Loss: 0.0004\n",
      "Batch 600/668, Loss: 0.1157\n"
     ]
    }
   ],
   "source": [
    "model2 = SimpleNN()\n",
    "train_model(model1, x_train_2, y_train_2)"
   ]
  },
  {
   "cell_type": "code",
   "execution_count": 12,
   "metadata": {},
   "outputs": [
    {
     "name": "stdout",
     "output_type": "stream",
     "text": [
      "Epoch 1/20\n",
      "Batch 0/660, Loss: 2.5112\n",
      "Batch 200/660, Loss: 0.1064\n",
      "Batch 400/660, Loss: 0.1635\n",
      "Batch 600/660, Loss: 0.1885\n",
      "Epoch 2/20\n",
      "Batch 0/660, Loss: 0.0650\n",
      "Batch 200/660, Loss: 0.0469\n",
      "Batch 400/660, Loss: 0.0616\n",
      "Batch 600/660, Loss: 0.0952\n",
      "Epoch 3/20\n",
      "Batch 0/660, Loss: 0.0324\n",
      "Batch 200/660, Loss: 0.0261\n",
      "Batch 400/660, Loss: 0.0307\n",
      "Batch 600/660, Loss: 0.0545\n",
      "Epoch 4/20\n",
      "Batch 0/660, Loss: 0.0274\n",
      "Batch 200/660, Loss: 0.0148\n",
      "Batch 400/660, Loss: 0.0195\n",
      "Batch 600/660, Loss: 0.0379\n",
      "Epoch 5/20\n",
      "Batch 0/660, Loss: 0.0239\n",
      "Batch 200/660, Loss: 0.0101\n",
      "Batch 400/660, Loss: 0.0111\n",
      "Batch 600/660, Loss: 0.0244\n",
      "Epoch 6/20\n",
      "Batch 0/660, Loss: 0.0224\n",
      "Batch 200/660, Loss: 0.0087\n",
      "Batch 400/660, Loss: 0.0070\n",
      "Batch 600/660, Loss: 0.0193\n",
      "Epoch 7/20\n",
      "Batch 0/660, Loss: 0.0209\n",
      "Batch 200/660, Loss: 0.0093\n",
      "Batch 400/660, Loss: 0.0057\n",
      "Batch 600/660, Loss: 0.0167\n",
      "Epoch 8/20\n",
      "Batch 0/660, Loss: 0.0216\n",
      "Batch 200/660, Loss: 0.0085\n",
      "Batch 400/660, Loss: 0.0035\n",
      "Batch 600/660, Loss: 0.0091\n",
      "Epoch 9/20\n",
      "Batch 0/660, Loss: 0.0123\n",
      "Batch 200/660, Loss: 0.0066\n",
      "Batch 400/660, Loss: 0.0030\n",
      "Batch 600/660, Loss: 0.0061\n",
      "Epoch 10/20\n",
      "Batch 0/660, Loss: 0.0103\n",
      "Batch 200/660, Loss: 0.0049\n",
      "Batch 400/660, Loss: 0.0018\n",
      "Batch 600/660, Loss: 0.0030\n",
      "Epoch 11/20\n",
      "Batch 0/660, Loss: 0.0071\n",
      "Batch 200/660, Loss: 0.0070\n",
      "Batch 400/660, Loss: 0.0009\n",
      "Batch 600/660, Loss: 0.0014\n",
      "Epoch 12/20\n",
      "Batch 0/660, Loss: 0.0029\n",
      "Batch 200/660, Loss: 0.0036\n",
      "Batch 400/660, Loss: 0.0006\n",
      "Batch 600/660, Loss: 0.0017\n",
      "Epoch 13/20\n",
      "Batch 0/660, Loss: 0.0015\n",
      "Batch 200/660, Loss: 0.0014\n",
      "Batch 400/660, Loss: 0.0015\n",
      "Batch 600/660, Loss: 0.0019\n",
      "Epoch 14/20\n",
      "Batch 0/660, Loss: 0.0014\n",
      "Batch 200/660, Loss: 0.0080\n",
      "Batch 400/660, Loss: 0.0013\n",
      "Batch 600/660, Loss: 0.0031\n",
      "Epoch 15/20\n",
      "Batch 0/660, Loss: 0.0006\n",
      "Batch 200/660, Loss: 0.0009\n",
      "Batch 400/660, Loss: 0.0016\n",
      "Batch 600/660, Loss: 0.0009\n",
      "Epoch 16/20\n",
      "Batch 0/660, Loss: 0.0004\n",
      "Batch 200/660, Loss: 0.0070\n",
      "Batch 400/660, Loss: 0.0003\n",
      "Batch 600/660, Loss: 0.0026\n",
      "Epoch 17/20\n",
      "Batch 0/660, Loss: 0.0017\n",
      "Batch 200/660, Loss: 0.0002\n",
      "Batch 400/660, Loss: 0.0002\n",
      "Batch 600/660, Loss: 0.0011\n",
      "Epoch 18/20\n",
      "Batch 0/660, Loss: 0.0008\n",
      "Batch 200/660, Loss: 0.0001\n",
      "Batch 400/660, Loss: 0.0069\n",
      "Batch 600/660, Loss: 0.0013\n",
      "Epoch 19/20\n",
      "Batch 0/660, Loss: 0.0007\n",
      "Batch 200/660, Loss: 0.0013\n",
      "Batch 400/660, Loss: 0.0003\n",
      "Batch 600/660, Loss: 0.0003\n",
      "Epoch 20/20\n",
      "Batch 0/660, Loss: 0.0004\n",
      "Batch 200/660, Loss: 0.0003\n",
      "Batch 400/660, Loss: 0.0003\n",
      "Batch 600/660, Loss: 0.0004\n"
     ]
    }
   ],
   "source": [
    "model3 = SimpleNN()\n",
    "train_model(model3, x_train_3, y_train_3)"
   ]
  },
  {
   "cell_type": "code",
   "execution_count": 11,
   "metadata": {},
   "outputs": [],
   "source": [
    "def evaluate_model(model,x_test,y_test):\n",
    "    loss_fn = tf.keras.losses.CategoricalCrossentropy()\n",
    "\n",
    "    y_test_onehot = tf.keras.utils.to_categorical(y_test, num_classes=10)\n",
    "\n",
    "    # Evaluate the model\n",
    "    test_loss = loss_fn(y_test_onehot, model(x_test))\n",
    "    test_accuracy = tf.keras.metrics.categorical_accuracy(y_test_onehot, model(x_test))\n",
    "    return test_loss, test_accuracy"
   ]
  },
  {
   "cell_type": "code",
   "execution_count": 15,
   "metadata": {},
   "outputs": [
    {
     "name": "stdout",
     "output_type": "stream",
     "text": [
      "Test Loss: 0.0857, Test Accuracy: 0.9780\n"
     ]
    }
   ],
   "source": [
    "x_test_1, y_test_1  = exclude_digits(x_test, y_test, excluded_digits=[1, 3, 7])\n",
    "test_loss_1 , test_accuracy_1 = evaluate_model(model1,x_test_1,y_test_1)\n",
    "\n",
    "print(f\"Test Loss: {test_loss_1.numpy():.4f}, Test Accuracy: {tf.reduce_mean(test_accuracy_1).numpy():.4f}\")"
   ]
  },
  {
   "cell_type": "code",
   "execution_count": 17,
   "metadata": {},
   "outputs": [
    {
     "name": "stdout",
     "output_type": "stream",
     "text": [
      "Test Loss: 10.8309, Test Accuracy: 0.5418\n"
     ]
    }
   ],
   "source": [
    "x_test_2, y_test_2  = exclude_digits(x_test, y_test, excluded_digits=[2, 5, 8])\n",
    "test_loss_2 , test_accuracy_2 = evaluate_model(model1,x_test_2,y_test_2)\n",
    "\n",
    "print(f\"Test Loss: {test_loss_1.numpy():.4f}, Test Accuracy: {tf.reduce_mean(test_accuracy_2).numpy():.4f}\")"
   ]
  },
  {
   "cell_type": "code",
   "execution_count": 18,
   "metadata": {},
   "outputs": [
    {
     "name": "stdout",
     "output_type": "stream",
     "text": [
      "Test Loss: 10.9118, Test Accuracy: 0.5384\n"
     ]
    }
   ],
   "source": [
    "x_test_3, y_test_3  = exclude_digits(x_test, y_test, excluded_digits=[4,6,9])\n",
    "test_loss_3 , test_accuracy_3 = evaluate_model(model1,x_test_3,y_test_3)\n",
    "\n",
    "print(f\"Test Loss: {test_loss_3.numpy():.4f}, Test Accuracy: {tf.reduce_mean(test_accuracy_3).numpy():.4f}\")"
   ]
  },
  {
   "cell_type": "code",
   "execution_count": null,
   "metadata": {},
   "outputs": [],
   "source": []
  },
  {
   "cell_type": "code",
   "execution_count": null,
   "metadata": {},
   "outputs": [],
   "source": []
  },
  {
   "cell_type": "code",
   "execution_count": null,
   "metadata": {},
   "outputs": [
    {
     "name": "stdout",
     "output_type": "stream",
     "text": [
      "Test Loss: 2.5673, Test Accuracy: 0.0260\n"
     ]
    }
   ],
   "source": [
    "x_test_2, y_test_2  = exclude_digits(x_test, y_test, excluded_digits=[2, 5, 8])\n",
    "test_loss_2 , test_accuracy_2 = evaluate_model(model2,x_test_2,y_test_2)\n",
    "\n",
    "print(f\"Test Loss: {test_loss_2.numpy():.4f}, Test Accuracy: {tf.reduce_mean(test_accuracy_2).numpy():.4f}\")"
   ]
  },
  {
   "cell_type": "code",
   "execution_count": 16,
   "metadata": {},
   "outputs": [
    {
     "name": "stdout",
     "output_type": "stream",
     "text": [
      "Test Loss: 0.0759, Test Accuracy: 0.9820\n"
     ]
    }
   ],
   "source": [
    "x_test_3, y_test_3  = exclude_digits(x_test, y_test, excluded_digits=[4,6,9])\n",
    "test_loss_3 , test_accuracy_3 = evaluate_model(model3,x_test_3,y_test_3)\n",
    "\n",
    "print(f\"Test Loss: {test_loss_3.numpy():.4f}, Test Accuracy: {tf.reduce_mean(test_accuracy_3).numpy():.4f}\")"
   ]
  },
  {
   "cell_type": "code",
   "execution_count": null,
   "metadata": {},
   "outputs": [],
   "source": []
  },
  {
   "cell_type": "code",
   "execution_count": null,
   "metadata": {},
   "outputs": [],
   "source": []
  },
  {
   "cell_type": "code",
   "execution_count": null,
   "metadata": {},
   "outputs": [],
   "source": []
  },
  {
   "cell_type": "code",
   "execution_count": null,
   "metadata": {},
   "outputs": [],
   "source": []
  }
 ],
 "metadata": {
  "kernelspec": {
   "display_name": "dev_env",
   "language": "python",
   "name": "python3"
  },
  "language_info": {
   "codemirror_mode": {
    "name": "ipython",
    "version": 3
   },
   "file_extension": ".py",
   "mimetype": "text/x-python",
   "name": "python",
   "nbconvert_exporter": "python",
   "pygments_lexer": "ipython3",
   "version": "3.10.14"
  }
 },
 "nbformat": 4,
 "nbformat_minor": 2
}
