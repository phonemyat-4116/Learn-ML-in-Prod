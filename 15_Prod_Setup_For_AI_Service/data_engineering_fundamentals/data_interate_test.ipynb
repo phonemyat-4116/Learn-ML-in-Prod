{
 "cells": [
  {
   "cell_type": "markdown",
   "metadata": {},
   "source": [
    "#### Pandas row and col processing"
   ]
  },
  {
   "cell_type": "code",
   "execution_count": 4,
   "metadata": {},
   "outputs": [
    {
     "name": "stdout",
     "output_type": "stream",
     "text": [
      "(199, 9)\n"
     ]
    }
   ],
   "source": [
    "import pandas as pd\n",
    "import time\n",
    "\n",
    "sample_df = pd.read_csv(\"sample_ vehicle_history.csv\")\n",
    "print(sample_df.shape)"
   ]
  },
  {
   "cell_type": "code",
   "execution_count": 16,
   "metadata": {},
   "outputs": [
    {
     "name": "stdout",
     "output_type": "stream",
     "text": [
      "0.24127960205078125  seconds\n"
     ]
    }
   ],
   "source": [
    "### Interating pandas DF by col\n",
    "start = time.time()\n",
    "for col in sample_df.columns:\n",
    "    for item in sample_df[col]:\n",
    "        #print(item)\n",
    "        pass\n",
    "print( (time.time()- start) * 1000,\" seconds\")"
   ]
  },
  {
   "cell_type": "code",
   "execution_count": 18,
   "metadata": {},
   "outputs": [
    {
     "name": "stdout",
     "output_type": "stream",
     "text": [
      "5.820751190185547  seconds\n"
     ]
    }
   ],
   "source": [
    "### Interating pandas DF by row\n",
    "n_rows = len(sample_df)\n",
    "start = time.time()\n",
    "for i in range(n_rows):\n",
    "    for item in sample_df.iloc[i]:\n",
    "        #print(item)\n",
    "        pass\n",
    "print((time.time()- start) *1000,\" seconds\")"
   ]
  },
  {
   "cell_type": "markdown",
   "metadata": {},
   "source": [
    "### Numpy processing"
   ]
  },
  {
   "cell_type": "code",
   "execution_count": 22,
   "metadata": {},
   "outputs": [],
   "source": [
    "df_np = sample_df.to_numpy()\n",
    "n_rows, n_cols = df_np.shape\n"
   ]
  },
  {
   "cell_type": "code",
   "execution_count": 23,
   "metadata": {},
   "outputs": [
    {
     "name": "stdout",
     "output_type": "stream",
     "text": [
      "0.09083747863769531  seconds\n"
     ]
    }
   ],
   "source": [
    "### Interating Numpy  by col\n",
    "start = time.time()\n",
    "for j in range(n_cols):\n",
    "    for item in df_np[:, j]:\n",
    "        #print(item)\n",
    "        pass\n",
    "print( (time.time()- start) * 1000,\" seconds\")"
   ]
  },
  {
   "cell_type": "code",
   "execution_count": 26,
   "metadata": {},
   "outputs": [
    {
     "name": "stdout",
     "output_type": "stream",
     "text": [
      "0.25177001953125  seconds\n"
     ]
    }
   ],
   "source": [
    "### Interating Numpy  by row\n",
    "start = time.time()\n",
    "for i in range(n_rows):\n",
    "    for item in df_np[i]:\n",
    "        #print(item)\n",
    "        pass\n",
    "print( (time.time()- start) * 1000,\" seconds\")"
   ]
  },
  {
   "cell_type": "markdown",
   "metadata": {},
   "source": [
    "### Text Versus Binary Format in storing"
   ]
  },
  {
   "cell_type": "code",
   "execution_count": 27,
   "metadata": {},
   "outputs": [
    {
     "name": "stdout",
     "output_type": "stream",
     "text": [
      "<class 'pandas.core.frame.DataFrame'>\n",
      "RangeIndex: 199 entries, 0 to 198\n",
      "Data columns (total 9 columns):\n",
      " #   Column       Non-Null Count  Dtype  \n",
      "---  ------       --------------  -----  \n",
      " 0   id           199 non-null    int64  \n",
      " 1   vehicle_id   199 non-null    int64  \n",
      " 2   location_id  199 non-null    int64  \n",
      " 3   status       199 non-null    object \n",
      " 4   created_at   199 non-null    object \n",
      " 5   updated_at   199 non-null    object \n",
      " 6   deleted_at   0 non-null      float64\n",
      " 7   start_time   199 non-null    object \n",
      " 8   end_time     199 non-null    object \n",
      "dtypes: float64(1), int64(3), object(5)\n",
      "memory usage: 14.1+ KB\n"
     ]
    }
   ],
   "source": [
    "sample_df.info()"
   ]
  },
  {
   "cell_type": "code",
   "execution_count": 34,
   "metadata": {},
   "outputs": [
    {
     "data": {
      "text/plain": [
       "19716"
      ]
     },
     "execution_count": 34,
     "metadata": {},
     "output_type": "execute_result"
    }
   ],
   "source": [
    "import os\n",
    "os.stat(\"sample_ vehicle_history.csv\").st_size"
   ]
  },
  {
   "cell_type": "code",
   "execution_count": 36,
   "metadata": {},
   "outputs": [
    {
     "data": {
      "text/plain": [
       "7403"
      ]
     },
     "execution_count": 36,
     "metadata": {},
     "output_type": "execute_result"
    }
   ],
   "source": [
    "sample_df.to_parquet(\"sample_parquet.parquet\")\n",
    "os.stat(\"sample_parquet.parquet\").st_size"
   ]
  },
  {
   "cell_type": "code",
   "execution_count": 37,
   "metadata": {},
   "outputs": [
    {
     "data": {
      "text/plain": [
       "Index(['id', 'vehicle_id', 'location_id', 'status', 'created_at', 'updated_at',\n",
       "       'deleted_at', 'start_time', 'end_time'],\n",
       "      dtype='object')"
      ]
     },
     "execution_count": 37,
     "metadata": {},
     "output_type": "execute_result"
    }
   ],
   "source": [
    "sample_df_parquet = pd.read_parquet(\"sample_parquet.parquet\")\n",
    "\n",
    "sample_df_parquet.columns"
   ]
  },
  {
   "cell_type": "code",
   "execution_count": null,
   "metadata": {},
   "outputs": [],
   "source": []
  }
 ],
 "metadata": {
  "kernelspec": {
   "display_name": "dev_env",
   "language": "python",
   "name": "python3"
  },
  "language_info": {
   "codemirror_mode": {
    "name": "ipython",
    "version": 3
   },
   "file_extension": ".py",
   "mimetype": "text/x-python",
   "name": "python",
   "nbconvert_exporter": "python",
   "pygments_lexer": "ipython3",
   "version": "3.10.14"
  }
 },
 "nbformat": 4,
 "nbformat_minor": 2
}
