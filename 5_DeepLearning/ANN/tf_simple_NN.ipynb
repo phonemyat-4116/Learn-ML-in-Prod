{
 "cells": [
  {
   "cell_type": "code",
   "execution_count": 1,
   "metadata": {},
   "outputs": [],
   "source": [
    "import numpy as np\n",
    "import tensorflow as tf"
   ]
  },
  {
   "cell_type": "code",
   "execution_count": 2,
   "metadata": {},
   "outputs": [
    {
     "name": "stdout",
     "output_type": "stream",
     "text": [
      "X shape :  (6, 3)\n",
      "Y shape :  (6, 1)\n"
     ]
    }
   ],
   "source": [
    "\n",
    "\n",
    "inputs = np.array([\n",
    "    [0,0,0],\n",
    "    [0,0,1],\n",
    "    [0,1,0],\n",
    "    [1,0,1],\n",
    "    [1,1,0],\n",
    "    [1,1,1]\n",
    "    \n",
    "])\n",
    "\n",
    "outputs = np.array([[0],[1],[1],[0],[0],[1]])\n",
    "print(\"X shape : \",inputs.shape)\n",
    "print(\"Y shape : \",outputs.shape)\n"
   ]
  },
  {
   "cell_type": "code",
   "execution_count": 8,
   "metadata": {},
   "outputs": [
    {
     "name": "stdout",
     "output_type": "stream",
     "text": [
      "Model: \"sequential_1\"\n",
      "_________________________________________________________________\n",
      " Layer (type)                Output Shape              Param #   \n",
      "=================================================================\n",
      " flatten_3 (Flatten)         (None, 3)                 0         \n",
      "                                                                 \n",
      " dense_3 (Dense)             (None, 2)                 8         \n",
      "                                                                 \n",
      "=================================================================\n",
      "Total params: 8 (32.00 Byte)\n",
      "Trainable params: 8 (32.00 Byte)\n",
      "Non-trainable params: 0 (0.00 Byte)\n",
      "_________________________________________________________________\n"
     ]
    }
   ],
   "source": [
    "model = tf.keras.models.Sequential([\n",
    "    tf.keras.layers.Flatten(input_shape=(3,)),\n",
    "    tf.keras.layers.Dense(2)\n",
    "])\n",
    "model.summary()"
   ]
  },
  {
   "cell_type": "code",
   "execution_count": 10,
   "metadata": {},
   "outputs": [
    {
     "name": "stdout",
     "output_type": "stream",
     "text": [
      "Epoch 1/5\n"
     ]
    },
    {
     "name": "stderr",
     "output_type": "stream",
     "text": [
      "2024-07-12 15:23:50.369447: I tensorflow/core/grappler/optimizers/custom_graph_optimizer_registry.cc:117] Plugin optimizer for device_type GPU is enabled.\n"
     ]
    },
    {
     "name": "stdout",
     "output_type": "stream",
     "text": [
      "1/1 [==============================] - 2s 2s/step - loss: 0.7712 - accuracy: 0.5000\n",
      "Epoch 2/5\n",
      "1/1 [==============================] - 0s 7ms/step - loss: 0.7704 - accuracy: 0.3333\n",
      "Epoch 3/5\n",
      "1/1 [==============================] - 0s 5ms/step - loss: 0.7697 - accuracy: 0.3333\n",
      "Epoch 4/5\n",
      "1/1 [==============================] - 0s 5ms/step - loss: 0.7689 - accuracy: 0.3333\n",
      "Epoch 5/5\n",
      "1/1 [==============================] - 0s 5ms/step - loss: 0.7681 - accuracy: 0.3333\n"
     ]
    },
    {
     "data": {
      "text/plain": [
       "<keras.src.callbacks.History at 0x366368a90>"
      ]
     },
     "execution_count": 10,
     "metadata": {},
     "output_type": "execute_result"
    }
   ],
   "source": [
    "model.compile(optimizer='adam',\n",
    "              loss=tf.keras.losses.SparseCategoricalCrossentropy(from_logits=True),\n",
    "              metrics=['accuracy'])\n",
    "model.fit(inputs,outputs,epochs=5)"
   ]
  },
  {
   "cell_type": "code",
   "execution_count": 12,
   "metadata": {},
   "outputs": [
    {
     "name": "stdout",
     "output_type": "stream",
     "text": [
      "1/1 [==============================] - 0s 12ms/step\n",
      "Actual Label : 0\tPredicted :  0\n"
     ]
    }
   ],
   "source": [
    "eg1 = np.array([[0,1,1]])\n",
    "prediction = model.predict(eg1)\n",
    "print(\"Actual Label : 0\",end='\\t')\n",
    "print(\"Predicted : \",np.argmax(prediction))\n"
   ]
  },
  {
   "cell_type": "code",
   "execution_count": 13,
   "metadata": {},
   "outputs": [
    {
     "name": "stdout",
     "output_type": "stream",
     "text": [
      "1/1 [==============================] - 0s 14ms/step\n",
      "Actual Label : 1\tPredicted :  1\n"
     ]
    }
   ],
   "source": [
    "eg2 = np.array([[1,0,0]])\n",
    "prediction = model.predict(eg2)\n",
    "print(\"Actual Label : 1\",end='\\t')\n",
    "print(\"Predicted : \",np.argmax(prediction))"
   ]
  },
  {
   "cell_type": "code",
   "execution_count": null,
   "metadata": {},
   "outputs": [],
   "source": []
  }
 ],
 "metadata": {
  "kernelspec": {
   "display_name": "ths",
   "language": "python",
   "name": "python3"
  },
  "language_info": {
   "codemirror_mode": {
    "name": "ipython",
    "version": 3
   },
   "file_extension": ".py",
   "mimetype": "text/x-python",
   "name": "python",
   "nbconvert_exporter": "python",
   "pygments_lexer": "ipython3",
   "version": "3.10.14"
  }
 },
 "nbformat": 4,
 "nbformat_minor": 2
}
