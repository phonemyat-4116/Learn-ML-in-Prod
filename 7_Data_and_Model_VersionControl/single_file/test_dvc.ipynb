{
 "cells": [
  {
   "cell_type": "code",
   "execution_count": 5,
   "metadata": {},
   "outputs": [],
   "source": [
    "import pandas as pd"
   ]
  },
  {
   "cell_type": "code",
   "execution_count": null,
   "metadata": {},
   "outputs": [],
   "source": []
  },
  {
   "cell_type": "code",
   "execution_count": 6,
   "metadata": {},
   "outputs": [
    {
     "data": {
      "text/html": [
       "<div>\n",
       "<style scoped>\n",
       "    .dataframe tbody tr th:only-of-type {\n",
       "        vertical-align: middle;\n",
       "    }\n",
       "\n",
       "    .dataframe tbody tr th {\n",
       "        vertical-align: top;\n",
       "    }\n",
       "\n",
       "    .dataframe thead th {\n",
       "        text-align: right;\n",
       "    }\n",
       "</style>\n",
       "<table border=\"1\" class=\"dataframe\">\n",
       "  <thead>\n",
       "    <tr style=\"text-align: right;\">\n",
       "      <th></th>\n",
       "      <th>id</th>\n",
       "      <th>vehicle_id</th>\n",
       "      <th>location_id</th>\n",
       "      <th>status</th>\n",
       "      <th>created_at</th>\n",
       "      <th>updated_at</th>\n",
       "      <th>deleted_at</th>\n",
       "      <th>start_time</th>\n",
       "      <th>end_time</th>\n",
       "    </tr>\n",
       "  </thead>\n",
       "  <tbody>\n",
       "    <tr>\n",
       "      <th>0</th>\n",
       "      <td>10618</td>\n",
       "      <td>2</td>\n",
       "      <td>4</td>\n",
       "      <td>ONRENT</td>\n",
       "      <td>2022-11-14 0:00:13</td>\n",
       "      <td>2022-11-14 11:30:12</td>\n",
       "      <td>1st data</td>\n",
       "      <td>2022-11-14 0:00:13</td>\n",
       "      <td>2022-11-14 11:30:12</td>\n",
       "    </tr>\n",
       "    <tr>\n",
       "      <th>1</th>\n",
       "      <td>10685</td>\n",
       "      <td>2</td>\n",
       "      <td>4</td>\n",
       "      <td>OVERDUE</td>\n",
       "      <td>2022-11-14 11:30:12</td>\n",
       "      <td>2022-11-14 11:49:47</td>\n",
       "      <td>NaN</td>\n",
       "      <td>2022-11-14 11:30:12</td>\n",
       "      <td>2022-11-14 11:49:47</td>\n",
       "    </tr>\n",
       "    <tr>\n",
       "      <th>2</th>\n",
       "      <td>10690</td>\n",
       "      <td>2</td>\n",
       "      <td>4</td>\n",
       "      <td>YARD</td>\n",
       "      <td>2022-11-14 11:49:47</td>\n",
       "      <td>2022-11-14 11:49:47</td>\n",
       "      <td>NaN</td>\n",
       "      <td>2022-11-14 11:49:47</td>\n",
       "      <td>2022-11-14 11:49:47</td>\n",
       "    </tr>\n",
       "    <tr>\n",
       "      <th>3</th>\n",
       "      <td>10691</td>\n",
       "      <td>2</td>\n",
       "      <td>4</td>\n",
       "      <td>PENDING</td>\n",
       "      <td>2022-11-14 11:49:47</td>\n",
       "      <td>2022-11-14 13:30:38</td>\n",
       "      <td>NaN</td>\n",
       "      <td>2022-11-14 11:49:47</td>\n",
       "      <td>2022-11-14 13:30:38</td>\n",
       "    </tr>\n",
       "    <tr>\n",
       "      <th>4</th>\n",
       "      <td>10705</td>\n",
       "      <td>2</td>\n",
       "      <td>4</td>\n",
       "      <td>YARD</td>\n",
       "      <td>2022-11-14 13:30:38</td>\n",
       "      <td>2022-11-14 13:31:49</td>\n",
       "      <td>NaN</td>\n",
       "      <td>2022-11-14 13:30:38</td>\n",
       "      <td>2022-11-14 13:31:49</td>\n",
       "    </tr>\n",
       "  </tbody>\n",
       "</table>\n",
       "</div>"
      ],
      "text/plain": [
       "      id  vehicle_id  location_id   status           created_at  \\\n",
       "0  10618           2            4   ONRENT   2022-11-14 0:00:13   \n",
       "1  10685           2            4  OVERDUE  2022-11-14 11:30:12   \n",
       "2  10690           2            4     YARD  2022-11-14 11:49:47   \n",
       "3  10691           2            4  PENDING  2022-11-14 11:49:47   \n",
       "4  10705           2            4     YARD  2022-11-14 13:30:38   \n",
       "\n",
       "            updated_at deleted_at           start_time             end_time  \n",
       "0  2022-11-14 11:30:12   1st data   2022-11-14 0:00:13  2022-11-14 11:30:12  \n",
       "1  2022-11-14 11:49:47        NaN  2022-11-14 11:30:12  2022-11-14 11:49:47  \n",
       "2  2022-11-14 11:49:47        NaN  2022-11-14 11:49:47  2022-11-14 11:49:47  \n",
       "3  2022-11-14 13:30:38        NaN  2022-11-14 11:49:47  2022-11-14 13:30:38  \n",
       "4  2022-11-14 13:31:49        NaN  2022-11-14 13:30:38  2022-11-14 13:31:49  "
      ]
     },
     "execution_count": 6,
     "metadata": {},
     "output_type": "execute_result"
    }
   ],
   "source": [
    "path = \"gcp_bucket/sample_vehicle_history.csv\"\n",
    "df = pd.read_csv(path)\n",
    "df.head()"
   ]
  },
  {
   "cell_type": "code",
   "execution_count": null,
   "metadata": {},
   "outputs": [],
   "source": []
  }
 ],
 "metadata": {
  "kernelspec": {
   "display_name": "ths",
   "language": "python",
   "name": "python3"
  },
  "language_info": {
   "codemirror_mode": {
    "name": "ipython",
    "version": 3
   },
   "file_extension": ".py",
   "mimetype": "text/x-python",
   "name": "python",
   "nbconvert_exporter": "python",
   "pygments_lexer": "ipython3",
   "version": "3.10.14"
  }
 },
 "nbformat": 4,
 "nbformat_minor": 2
}
