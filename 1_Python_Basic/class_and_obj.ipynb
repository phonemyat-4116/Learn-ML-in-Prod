{
 "cells": [
  {
   "cell_type": "code",
   "execution_count": 1,
   "metadata": {},
   "outputs": [],
   "source": [
    "from model import Item, Categories, SaleItem\n",
    "\n",
    "\n",
    "\n",
    "\n",
    "\n",
    "cat1 = Categories('03-06-2024','cat_001','Local coffee')\n",
    "\n",
    "i1 = Item ('12-06-2024','i_001','super_coffee',\"0000\",3900,3500,cat1)\n",
    "i2 = Item ('17-06-2024','i_002','sunday_coffee',\"0000\",3450,3000,cat1)\n",
    "i3 = Item ('01-06-2024','i_003','hsu_coffee',\"0000\",5450,5200,cat1)\n",
    "\n",
    "\n"
   ]
  },
  {
   "cell_type": "code",
   "execution_count": 26,
   "metadata": {},
   "outputs": [],
   "source": [
    "from model import SaleItem\n",
    "\n",
    "\n",
    "sale1=  SaleItem(customer_id='CU_000001',created_date='15-06-2024',item=i1 )\n",
    "sale2=  SaleItem(customer_id='CU_000001',created_date='21-06-2024',item=i1 )\n",
    "sale3=  SaleItem(customer_id='CU_000001',created_date='21-06-2024',item=i2 )\n",
    "sale4=  SaleItem(customer_id='CU_000001',created_date='21-06-2024',item=i3 )\n",
    "sale5=  SaleItem(customer_id='CU_000001',created_date='01-07-2024',item=i2 )\n",
    "sale6=  SaleItem(customer_id='CU_000001',created_date='01-07-2024',item=i1 )\n",
    "sale7=  SaleItem(customer_id='CU_000001',created_date='10-07-2024',item=i3 )\n",
    "sale8=  SaleItem(customer_id='CU_000001',created_date='10-07-2024',item=i2 )\n",
    "sale9=  SaleItem(customer_id='CU_000001',created_date='10-07-2024',item=i3 )\n",
    "total_sale = [sale1,sale2,sale3,sale4,sale5,sale6,sale7,sale8,sale9]"
   ]
  },
  {
   "cell_type": "code",
   "execution_count": null,
   "metadata": {},
   "outputs": [],
   "source": []
  },
  {
   "cell_type": "code",
   "execution_count": 27,
   "metadata": {},
   "outputs": [
    {
     "data": {
      "text/html": [
       "<div>\n",
       "<style scoped>\n",
       "    .dataframe tbody tr th:only-of-type {\n",
       "        vertical-align: middle;\n",
       "    }\n",
       "\n",
       "    .dataframe tbody tr th {\n",
       "        vertical-align: top;\n",
       "    }\n",
       "\n",
       "    .dataframe thead th {\n",
       "        text-align: right;\n",
       "    }\n",
       "</style>\n",
       "<table border=\"1\" class=\"dataframe\">\n",
       "  <thead>\n",
       "    <tr style=\"text-align: right;\">\n",
       "      <th></th>\n",
       "      <th>created_date</th>\n",
       "      <th>item_name</th>\n",
       "      <th>profit</th>\n",
       "      <th>category_name</th>\n",
       "    </tr>\n",
       "  </thead>\n",
       "  <tbody>\n",
       "    <tr>\n",
       "      <th>0</th>\n",
       "      <td>15-06-2024</td>\n",
       "      <td>super_coffee</td>\n",
       "      <td>400</td>\n",
       "      <td>Local coffee</td>\n",
       "    </tr>\n",
       "    <tr>\n",
       "      <th>1</th>\n",
       "      <td>21-06-2024</td>\n",
       "      <td>super_coffee</td>\n",
       "      <td>400</td>\n",
       "      <td>Local coffee</td>\n",
       "    </tr>\n",
       "    <tr>\n",
       "      <th>2</th>\n",
       "      <td>21-06-2024</td>\n",
       "      <td>sunday_coffee</td>\n",
       "      <td>450</td>\n",
       "      <td>Local coffee</td>\n",
       "    </tr>\n",
       "    <tr>\n",
       "      <th>3</th>\n",
       "      <td>21-06-2024</td>\n",
       "      <td>hsu_coffee</td>\n",
       "      <td>250</td>\n",
       "      <td>Local coffee</td>\n",
       "    </tr>\n",
       "    <tr>\n",
       "      <th>4</th>\n",
       "      <td>01-07-2024</td>\n",
       "      <td>sunday_coffee</td>\n",
       "      <td>450</td>\n",
       "      <td>Local coffee</td>\n",
       "    </tr>\n",
       "    <tr>\n",
       "      <th>5</th>\n",
       "      <td>01-07-2024</td>\n",
       "      <td>super_coffee</td>\n",
       "      <td>400</td>\n",
       "      <td>Local coffee</td>\n",
       "    </tr>\n",
       "    <tr>\n",
       "      <th>6</th>\n",
       "      <td>10-07-2024</td>\n",
       "      <td>hsu_coffee</td>\n",
       "      <td>250</td>\n",
       "      <td>Local coffee</td>\n",
       "    </tr>\n",
       "    <tr>\n",
       "      <th>7</th>\n",
       "      <td>10-07-2024</td>\n",
       "      <td>sunday_coffee</td>\n",
       "      <td>450</td>\n",
       "      <td>Local coffee</td>\n",
       "    </tr>\n",
       "    <tr>\n",
       "      <th>8</th>\n",
       "      <td>10-07-2024</td>\n",
       "      <td>hsu_coffee</td>\n",
       "      <td>250</td>\n",
       "      <td>Local coffee</td>\n",
       "    </tr>\n",
       "  </tbody>\n",
       "</table>\n",
       "</div>"
      ],
      "text/plain": [
       "  created_date      item_name  profit category_name\n",
       "0   15-06-2024   super_coffee     400  Local coffee\n",
       "1   21-06-2024   super_coffee     400  Local coffee\n",
       "2   21-06-2024  sunday_coffee     450  Local coffee\n",
       "3   21-06-2024     hsu_coffee     250  Local coffee\n",
       "4   01-07-2024  sunday_coffee     450  Local coffee\n",
       "5   01-07-2024   super_coffee     400  Local coffee\n",
       "6   10-07-2024     hsu_coffee     250  Local coffee\n",
       "7   10-07-2024  sunday_coffee     450  Local coffee\n",
       "8   10-07-2024     hsu_coffee     250  Local coffee"
      ]
     },
     "execution_count": 27,
     "metadata": {},
     "output_type": "execute_result"
    }
   ],
   "source": [
    "sale_item_dict = {\n",
    "    \"created_date\" :[],\n",
    "    \"item_name\" :[],\n",
    "    \"profit\" : [],\n",
    "    \"category_name\" : []\n",
    "}\n",
    "for cur_obj in total_sale:\n",
    "    sale_item_dict[\"created_date\"].append(cur_obj.created_date)\n",
    "    sale_item_dict[\"item_name\"].append(cur_obj.item.name)\n",
    "    sale_item_dict[\"profit\"].append(cur_obj.item.getProfit())\n",
    "    sale_item_dict[\"category_name\"].append(cur_obj.item.category.name)\n",
    "\n",
    "\n",
    "import pandas as pd\n",
    "sale_item_df = pd.DataFrame(sale_item_dict)\n",
    "sale_item_df"
   ]
  },
  {
   "cell_type": "code",
   "execution_count": 28,
   "metadata": {},
   "outputs": [
    {
     "name": "stdout",
     "output_type": "stream",
     "text": [
      "{'sunday_coffee', 'hsu_coffee', 'super_coffee'}\n"
     ]
    }
   ],
   "source": [
    "dist_item_name = set(sale_item_df[\"item_name\"].to_numpy())\n",
    "print(dist_item_name)"
   ]
  },
  {
   "cell_type": "code",
   "execution_count": 30,
   "metadata": {},
   "outputs": [
    {
     "name": "stdout",
     "output_type": "stream",
     "text": [
      "  created_date      item_name  profit category_name\n",
      "2   21-06-2024  sunday_coffee     450  Local coffee\n",
      "4   01-07-2024  sunday_coffee     450  Local coffee\n",
      "7   10-07-2024  sunday_coffee     450  Local coffee\n",
      "  created_date   item_name  profit category_name\n",
      "3   21-06-2024  hsu_coffee     250  Local coffee\n",
      "6   10-07-2024  hsu_coffee     250  Local coffee\n",
      "8   10-07-2024  hsu_coffee     250  Local coffee\n",
      "  created_date     item_name  profit category_name\n",
      "0   15-06-2024  super_coffee     400  Local coffee\n",
      "1   21-06-2024  super_coffee     400  Local coffee\n",
      "5   01-07-2024  super_coffee     400  Local coffee\n"
     ]
    },
    {
     "data": {
      "image/png": "[encoded data removed]",
      "text/plain": [
       "<Figure size 640x480 with 1 Axes>"
      ]
     },
     "metadata": {},
     "output_type": "display_data"
    }
   ],
   "source": [
    "import matplotlib.pyplot as plt\n",
    "import numpy as np\n",
    "for cur_name in dist_item_name:\n",
    "    cur_df = sale_item_df[sale_item_df['item_name'] == cur_name]\n",
    "\n",
    "    \n",
    "    \n",
    "    print(cur_df.head())\n",
    "\n",
    "    # we need dist date for analysis\n",
    "    x =  list(set(cur_df[\"created_date\"].to_numpy()))\n",
    "\n",
    "    # profit must be sum for same date\n",
    "    y = []\n",
    "    for cur_x in x:\n",
    "        temp_y = cur_df[cur_df['created_date']==cur_x]['profit'].to_numpy()\n",
    "        y.append(np.sum(temp_y))\n",
    "\n",
    "    #print(x)\n",
    "    #print(y)\n",
    "    plt.scatter(x,y)\n",
    "    \n",
    "plt.show()\n"
   ]
  },
  {
   "cell_type": "code",
   "execution_count": null,
   "metadata": {},
   "outputs": [],
   "source": []
  },
  {
   "cell_type": "code",
   "execution_count": null,
   "metadata": {},
   "outputs": [],
   "source": []
  },
  {
   "cell_type": "code",
   "execution_count": null,
   "metadata": {},
   "outputs": [],
   "source": []
  },
  {
   "cell_type": "code",
   "execution_count": null,
   "metadata": {},
   "outputs": [],
   "source": []
  },
  {
   "cell_type": "code",
   "execution_count": null,
   "metadata": {},
   "outputs": [],
   "source": []
  }
 ],
 "metadata": {
  "kernelspec": {
   "display_name": "ths",
   "language": "python",
   "name": "python3"
  },
  "language_info": {
   "codemirror_mode": {
    "name": "ipython",
    "version": 3
   },
   "file_extension": ".py",
   "mimetype": "text/x-python",
   "name": "python",
   "nbconvert_exporter": "python",
   "pygments_lexer": "ipython3",
   "version": "3.12.4"
  }
 },
 "nbformat": 4,
 "nbformat_minor": 2
}
