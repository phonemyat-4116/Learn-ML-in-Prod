{
 "cells": [
  {
   "cell_type": "markdown",
   "metadata": {},
   "source": [
    "### Data Type"
   ]
  },
  {
   "cell_type": "code",
   "execution_count": 41,
   "metadata": {},
   "outputs": [
    {
     "name": "stdout",
     "output_type": "stream",
     "text": [
      "<class 'str'>\n",
      "<class 'int'>\n",
      "<class 'float'>\n",
      "<class 'int'>\n",
      "<class 'list'>\n",
      "[100, 100, 2000]\n",
      "<class 'set'>\n",
      "{10, 100}\n",
      "<class 'dict'>\n",
      "{'a': 10, 'b': 10, 'c': 100}\n",
      "<class 'bytes'>\n",
      "b'Hello'\n",
      "<class 'range'>\n",
      "range(0, 10)\n",
      "<class 'NoneType'>\n"
     ]
    }
   ],
   "source": [
    "check_type = \"Hello\"\n",
    "print(type(check_type))\n",
    "\n",
    "check_type = 100\n",
    "print(type(check_type))\n",
    "\n",
    "check_type = 100.5\n",
    "print(type(check_type))\n",
    "\n",
    "\n",
    "check_type = 100\n",
    "print(type(check_type))\n",
    "\n",
    "\n",
    "check_type = [100,100,2000]\n",
    "print(type(check_type))\n",
    "print(check_type)\n",
    "\n",
    "check_type = {10,10,100}\n",
    "print(type(check_type))\n",
    "print(check_type)\n",
    "\n",
    "\n",
    "check_type = {'a' : 10,'b' : 10,'c' : 100}\n",
    "print(type(check_type))\n",
    "print(check_type)\n",
    "\n",
    "\n",
    "\n",
    "check_type = b'Hello'\n",
    "print(type(check_type))\n",
    "print(check_type)\n",
    "\n",
    "check_type = range(10)\n",
    "print(type(check_type))\n",
    "print(check_type)\n",
    "\n",
    "\n",
    "check_type = None\n",
    "print(type(check_type))\n",
    "\n",
    "\n",
    "\n"
   ]
  },
  {
   "cell_type": "markdown",
   "metadata": {},
   "source": [
    "### Looping\n",
    "- for loop\n",
    "- while loop\n",
    "- for each loop\n",
    "- do while loop"
   ]
  },
  {
   "cell_type": "code",
   "execution_count": 29,
   "metadata": {},
   "outputs": [
    {
     "name": "stdout",
     "output_type": "stream",
     "text": [
      "02468"
     ]
    }
   ],
   "source": [
    "# for loop \n",
    "for i in range(0,10,2):\n",
    "    print(i,end=\"\")"
   ]
  },
  {
   "cell_type": "code",
   "execution_count": 28,
   "metadata": {},
   "outputs": [
    {
     "name": "stdout",
     "output_type": "stream",
     "text": [
      "1234"
     ]
    }
   ],
   "source": [
    "# while loop\n",
    "\n",
    "index  = 1\n",
    "while index < 5:\n",
    "    print(index,end=\"\")\n",
    "    index = index +1"
   ]
  },
  {
   "cell_type": "code",
   "execution_count": 30,
   "metadata": {},
   "outputs": [
    {
     "name": "stdout",
     "output_type": "stream",
     "text": [
      "5070607090"
     ]
    }
   ],
   "source": [
    "# for each loop\n",
    "marks = [50,70,60,70,90]\n",
    "for cur_mark in marks:\n",
    "    print(cur_mark,end=\"\")"
   ]
  },
  {
   "cell_type": "code",
   "execution_count": 32,
   "metadata": {},
   "outputs": [
    {
     "name": "stdout",
     "output_type": "stream",
     "text": [
      "Wrong\n",
      "Wrong\n"
     ]
    }
   ],
   "source": [
    "#do while loop\n",
    "secret_word = \"python\"\n",
    "while True:\n",
    "    word = input(\"Enter the secret word: \").lower()\n",
    "    if word == secret_word:\n",
    "        break\n",
    "    print(\"Wrong\")"
   ]
  },
  {
   "cell_type": "markdown",
   "metadata": {},
   "source": [
    "#### Function\n",
    "- function name must verb\n",
    "- Args must be in nouns"
   ]
  },
  {
   "cell_type": "code",
   "execution_count": 18,
   "metadata": {},
   "outputs": [
    {
     "name": "stdout",
     "output_type": "stream",
     "text": [
      "50\n",
      "30\n"
     ]
    }
   ],
   "source": [
    "# Pass my value\n",
    "def addTwoNumber(num1,num2):\n",
    "    num1 = num1+num2\n",
    "    return (num1)\n",
    "\n",
    "num1 = 30\n",
    "num2 = 20\n",
    "print(addTwoNumber(num1, num2))\n",
    "print(num1)\n",
    "\n"
   ]
  },
  {
   "cell_type": "code",
   "execution_count": 40,
   "metadata": {},
   "outputs": [
    {
     "name": "stdout",
     "output_type": "stream",
     "text": [
      "[17.0, 25.5, 34.0]\n",
      "[17.0, 25.5, 34.0]\n"
     ]
    }
   ],
   "source": [
    "# Pass by reference\n",
    "def convertRate(rate_list):\n",
    "    #rate_list1 = [0] * len(rate_list)\n",
    "    for i in range(len(rate_list)):\n",
    "        rate_list[i] = rate_list[i]*0.85\n",
    "\n",
    "    return rate_list\n",
    "\n",
    "rate_list = [20,30,40]\n",
    "print(convertRate(rate_list))\n",
    "print(rate_list)"
   ]
  },
  {
   "cell_type": "code",
   "execution_count": 47,
   "metadata": {},
   "outputs": [
    {
     "name": "stdout",
     "output_type": "stream",
     "text": [
      "<class 'str'>\n"
     ]
    }
   ],
   "source": [
    "# function with type define\n",
    "\n",
    "def appendItem(itemName, itemList=None) -> int:\n",
    "    if itemList == None:\n",
    "        itemList = []\n",
    "    itemList.append(itemName)\n",
    "    return itemList\n"
   ]
  },
  {
   "cell_type": "code",
   "execution_count": 51,
   "metadata": {},
   "outputs": [
    {
     "name": "stdout",
     "output_type": "stream",
     "text": [
      "['Laptop']\n",
      "['Laptop', 'iphone']\n"
     ]
    }
   ],
   "source": [
    "item_list1 = appendItem(\"Laptop\")\n",
    "print(item_list1)\n",
    "\n",
    "item_list1 = appendItem(\"iphone\",item_list1)\n",
    "print(item_list1)\n",
    "\n"
   ]
  },
  {
   "cell_type": "code",
   "execution_count": null,
   "metadata": {},
   "outputs": [],
   "source": []
  },
  {
   "cell_type": "code",
   "execution_count": null,
   "metadata": {},
   "outputs": [],
   "source": []
  }
 ],
 "metadata": {
  "kernelspec": {
   "display_name": "ths",
   "language": "python",
   "name": "python3"
  },
  "language_info": {
   "codemirror_mode": {
    "name": "ipython",
    "version": 3
   },
   "file_extension": ".py",
   "mimetype": "text/x-python",
   "name": "python",
   "nbconvert_exporter": "python",
   "pygments_lexer": "ipython3",
   "version": "3.12.4"
  }
 },
 "nbformat": 4,
 "nbformat_minor": 2
}
