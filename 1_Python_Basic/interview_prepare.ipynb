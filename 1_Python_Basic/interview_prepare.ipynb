{
 "cells": [
  {
   "cell_type": "markdown",
   "metadata": {},
   "source": [
    "#### List vs tuple"
   ]
  },
  {
   "cell_type": "code",
   "execution_count": 3,
   "metadata": {},
   "outputs": [],
   "source": [
    "# Lists are mutable, meaning that you can modify their contents after creation. You can add, remove, or change elements within a list.\n",
    "my_list = [1, 2, 3]\n",
    "my_list[0] = 10  # Modifying an element\n",
    "my_list.append(4) "
   ]
  },
  {
   "cell_type": "code",
   "execution_count": 4,
   "metadata": {},
   "outputs": [
    {
     "ename": "TypeError",
     "evalue": "'tuple' object does not support item assignment",
     "output_type": "error",
     "traceback": [
      "\u001b[0;31m---------------------------------------------------------------------------\u001b[0m",
      "\u001b[0;31mTypeError\u001b[0m                                 Traceback (most recent call last)",
      "Cell \u001b[0;32mIn[4], line 4\u001b[0m\n\u001b[1;32m      1\u001b[0m \u001b[38;5;66;03m# Tuples are immutable, meaning that once a tuple is created, you cannot modify its contents. You cannot add, remove, or change elements.\u001b[39;00m\n\u001b[1;32m      3\u001b[0m my_tuple \u001b[38;5;241m=\u001b[39m (\u001b[38;5;241m1\u001b[39m, \u001b[38;5;241m2\u001b[39m, \u001b[38;5;241m3\u001b[39m)\n\u001b[0;32m----> 4\u001b[0m \u001b[43mmy_tuple\u001b[49m\u001b[43m[\u001b[49m\u001b[38;5;241;43m0\u001b[39;49m\u001b[43m]\u001b[49m \u001b[38;5;241m=\u001b[39m \u001b[38;5;241m10\u001b[39m  \u001b[38;5;66;03m# This will raise an error\u001b[39;00m\n",
      "\u001b[0;31mTypeError\u001b[0m: 'tuple' object does not support item assignment"
     ]
    }
   ],
   "source": [
    "# Tuples are immutable, meaning that once a tuple is created, you cannot modify its contents. You cannot add, remove, or change elements.\n",
    "\n",
    "my_tuple = (1, 2, 3)\n",
    "my_tuple[0] = 10  # This will raise an error"
   ]
  },
  {
   "cell_type": "markdown",
   "metadata": {},
   "source": [
    "#### '__init__' method\n",
    "This special method is called a constructor, and it is automatically invoked when a new object of the class is created."
   ]
  },
  {
   "cell_type": "code",
   "execution_count": 5,
   "metadata": {},
   "outputs": [
    {
     "name": "stdout",
     "output_type": "stream",
     "text": [
      "Alice\n"
     ]
    }
   ],
   "source": [
    "class Student:\n",
    "    def __init__(self, name):  # Constructor method\n",
    "        self.name = name\n",
    "\n",
    "student1 = Student(\"Alice\")\n",
    "print(student1.name)  # Output: Alice\n"
   ]
  },
  {
   "cell_type": "markdown",
   "metadata": {},
   "source": [
    "#### slicing in Python\n",
    "[start : stop : step]"
   ]
  },
  {
   "cell_type": "code",
   "execution_count": 6,
   "metadata": {},
   "outputs": [
    {
     "name": "stdout",
     "output_type": "stream",
     "text": [
      "[1, 3]\n"
     ]
    }
   ],
   "source": [
    "my_list = [0, 1, 2, 3, 4, 5, 6]\n",
    "sliced = my_list[1:5:2]  # Output: [1, 3]\n",
    "print(sliced)"
   ]
  },
  {
   "cell_type": "markdown",
   "metadata": {},
   "source": [
    "#### Decorators\n",
    "Decorators in Python are able to accept arguments for functions and modify them."
   ]
  },
  {
   "cell_type": "code",
   "execution_count": 7,
   "metadata": {},
   "outputs": [
    {
     "name": "stdout",
     "output_type": "stream",
     "text": [
      "Something before the function\n",
      "Hello!\n",
      "Something after the function\n"
     ]
    }
   ],
   "source": [
    "def my_decorator(func):\n",
    "    def wrapper():\n",
    "        print(\"Something before the function\")\n",
    "        func()\n",
    "        print(\"Something after the function\")\n",
    "    return wrapper\n",
    "\n",
    "@my_decorator\n",
    "def say_hello():\n",
    "    print(\"Hello!\")\n",
    "\n",
    "say_hello()"
   ]
  },
  {
   "cell_type": "markdown",
   "metadata": {},
   "source": [
    "#### Using Expression"
   ]
  },
  {
   "cell_type": "code",
   "execution_count": 8,
   "metadata": {},
   "outputs": [
    {
     "name": "stdout",
     "output_type": "stream",
     "text": [
      "[1, 4, 9, 16, 25]\n"
     ]
    }
   ],
   "source": [
    "mylist = [1, 2, 3, 4, 5]\n",
    "squared = [x**2 for x in mylist]\n",
    "print(squared)"
   ]
  },
  {
   "cell_type": "markdown",
   "metadata": {},
   "source": [
    "#### lambda function in python"
   ]
  },
  {
   "cell_type": "code",
   "execution_count": 9,
   "metadata": {},
   "outputs": [
    {
     "name": "stdout",
     "output_type": "stream",
     "text": [
      "15\n"
     ]
    }
   ],
   "source": [
    "# Lambda function that adds 10 to the argument\n",
    "add_10 = lambda x: x + 10\n",
    "\n",
    "# Using the lambda function\n",
    "print(add_10(5))  # Output: 15"
   ]
  },
  {
   "cell_type": "code",
   "execution_count": 10,
   "metadata": {},
   "outputs": [
    {
     "name": "stdout",
     "output_type": "stream",
     "text": [
      "[1, 4, 9, 16, 25]\n"
     ]
    }
   ],
   "source": [
    "my_list = [1, 2, 3, 4, 5]\n",
    "squared = list(map(lambda x: x**2, my_list))\n",
    "print(squared)  # "
   ]
  },
  {
   "cell_type": "markdown",
   "metadata": {},
   "source": [
    "#### Pickling in Python \n",
    "Pickling in Python refers to a serialization process. It is the process of converting a Python object into a byte stream so that it can be saved to a file or transmitted over a network. The resulting byte stream can then be \"unpickled\" to reconstruct the original object. This is useful for saving program state or sending Python objects between different environments.\n",
    "\n"
   ]
  },
  {
   "cell_type": "code",
   "execution_count": 11,
   "metadata": {},
   "outputs": [
    {
     "name": "stdout",
     "output_type": "stream",
     "text": [
      "{'name': 'Alice', 'age': 30}\n"
     ]
    }
   ],
   "source": [
    "import pickle\n",
    "\n",
    "# Object to be pickled\n",
    "my_data = {'name': 'Alice', 'age': 30}\n",
    "\n",
    "# Pickling the object\n",
    "with open('data.pkl', 'wb') as file:\n",
    "    pickle.dump(my_data, file)\n",
    "\n",
    "# Unpickling the object\n",
    "with open('data.pkl', 'rb') as file:\n",
    "    loaded_data = pickle.load(file)\n",
    "\n",
    "print(loaded_data)  # Output: {'name': 'Alice', 'age': 30}\n"
   ]
  },
  {
   "cell_type": "markdown",
   "metadata": {},
   "source": [
    "####  immutable types in python\n",
    "String, Tuple, and Integer"
   ]
  },
  {
   "cell_type": "code",
   "execution_count": 12,
   "metadata": {},
   "outputs": [
    {
     "data": {
      "text/plain": [
       "1"
      ]
     },
     "execution_count": 12,
     "metadata": {},
     "output_type": "execute_result"
    }
   ],
   "source": [
    "7%3"
   ]
  },
  {
   "cell_type": "markdown",
   "metadata": {},
   "source": [
    "#### *args vs **kwargs\n",
    "\n",
    "- *args: This syntax allows a function to accept a variable number of positional arguments. The arguments passed to the function are collected into a tuple.\n",
    "\n",
    "- **kwargs: This syntax allows a function to accept a variable number of keyword arguments. The arguments passed to the function are collected into a dictionary, where the keys are the argument names and the values are the corresponding argument values."
   ]
  },
  {
   "cell_type": "code",
   "execution_count": 15,
   "metadata": {},
   "outputs": [
    {
     "name": "stdout",
     "output_type": "stream",
     "text": [
      "1\n",
      "2\n",
      "3\n"
     ]
    }
   ],
   "source": [
    "def example_args(*args):\n",
    "    for arg in args:\n",
    "        print(arg)\n",
    "\n",
    "example_args(1, 2, 3) "
   ]
  },
  {
   "cell_type": "code",
   "execution_count": 16,
   "metadata": {},
   "outputs": [
    {
     "name": "stdout",
     "output_type": "stream",
     "text": [
      "name: Alice\n",
      "age: 30\n"
     ]
    }
   ],
   "source": [
    "def example_kwargs(**kwargs):\n",
    "    for key, value in kwargs.items():\n",
    "        print(f\"{key}: {value}\")\n",
    "\n",
    "example_kwargs(name=\"Alice\", age=30) "
   ]
  },
  {
   "cell_type": "markdown",
   "metadata": {},
   "source": [
    "#### Python's memory management Mechanism\n",
    "\n",
    "Python uses a private heap to manage memory, which is a data structure that keeps track of all the objects and data in a Python program. Unlike languages like C or C++, Python's memory management is automatic and handles tasks such as allocation and deallocation of memory dynamically. It employs a technique called garbage collection to automatically reclaim memory occupied by objects that are no longer in use. Additionally, Python employs reference counting to keep track of the number of references to an object, and objects with zero references are automatically deallocated. This approach simplifies memory management for developers but may lead to overhead and occasional performance implications compared to manual memory management in languages like C or C++.\n",
    "\n",
    "\n"
   ]
  },
  {
   "cell_type": "markdown",
   "metadata": {},
   "source": [
    "#### Inheritance in Python\n",
    "\n",
    "Inheritance in Python allows a class to inherit attributes and methods from another class, enabling code reuse and the creation of hierarchies. It’s implemented by defining a new class that extends an existing class using the syntax class NewClass(BaseClass):. Subclasses inherit all attributes and methods from the base class and can override or extend them as needed. Inheritance differs from composition, where objects are composed of other objects rather than inheriting behavior. In composition, the relationship between classes is typically looser, and objects can be composed of multiple components, whereas inheritance implies an is-a relationship between classes."
   ]
  },
  {
   "cell_type": "code",
   "execution_count": 18,
   "metadata": {},
   "outputs": [],
   "source": [
    "class BaseClass:\n",
    "    def method(self):\n",
    "        print(\"Method in BaseClass\")\n",
    "\n",
    "class SubClass(BaseClass):  # Inheriting from BaseClass\n",
    "    def additional_method(self):\n",
    "        print(\"Method in SubClass\")\n"
   ]
  },
  {
   "cell_type": "markdown",
   "metadata": {},
   "source": [
    "#### composition in Python\n",
    "Composition in Python is a design principle where objects are composed of other objects, allowing for complex structures to be built by combining simpler components. Unlike inheritance, which implies an is-a relationship between classes, composition implies a has-a relationship, where objects contain other objects as parts."
   ]
  },
  {
   "cell_type": "code",
   "execution_count": 19,
   "metadata": {},
   "outputs": [],
   "source": [
    "class Engine:\n",
    "    def start(self):\n",
    "        print(\"Engine starting\")\n",
    "\n",
    "class Car:\n",
    "    def __init__(self):\n",
    "        self.engine = Engine()  # Car has an Engine\n",
    "\n",
    "    def start(self):\n",
    "        self.engine.start()  # Delegating the start method to the engine\n"
   ]
  },
  {
   "cell_type": "markdown",
   "metadata": {},
   "source": [
    "#### Inheritance vs Composition\n",
    "- Inheritance:\n",
    "   - is-a Relationship: Inheritance creates a hierarchical relationship. For example, if Dog inherits from Animal, then Dog is an Animal.\n",
    "   - Tight Coupling: Subclasses are tightly coupled to their base classes, meaning changes in the base class can directly affect subclasses.\n",
    "\n",
    "- Composition:\n",
    "  - has-a Relationship: Composition involves creating complex objects by combining simpler objects. For example, a Car has an Engine.\n",
    "   - Loose Coupling: Objects in composition can function independently, allowing for greater flexibility and easier changes without affecting other components."
   ]
  },
  {
   "cell_type": "markdown",
   "metadata": {},
   "source": [
    "#### Closures in Python\n",
    "\n",
    "Closures in Python are functions that capture and remember the values of variables from the enclosing scope, even after the scope has finished executing. They are defined by nested function definitions, where the inner function references variables from the outer function's scope. Closures are commonly used to create functions with dynamic behavior or to implement data hiding and encapsulation."
   ]
  },
  {
   "cell_type": "code",
   "execution_count": null,
   "metadata": {},
   "outputs": [],
   "source": [
    "def outer_function(x):\n",
    "    def inner_function(y):\n",
    "        return x + y  # 'x' is captured from the outer function's scope\n",
    "    return inner_function\n",
    "\n",
    "closure = outer_function(10)  # 'closure' remembers 'x' as 10\n",
    "result = closure(5)  # This returns 15 (10 + 5)\n",
    "\n"
   ]
  }
 ],
 "metadata": {
  "kernelspec": {
   "display_name": "dev_env",
   "language": "python",
   "name": "python3"
  },
  "language_info": {
   "codemirror_mode": {
    "name": "ipython",
    "version": 3
   },
   "file_extension": ".py",
   "mimetype": "text/x-python",
   "name": "python",
   "nbconvert_exporter": "python",
   "pygments_lexer": "ipython3",
   "version": "3.10.14"
  }
 },
 "nbformat": 4,
 "nbformat_minor": 2
}
