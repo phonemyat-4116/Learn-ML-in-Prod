{
 "cells": [
  {
   "cell_type": "code",
   "execution_count": 1,
   "metadata": {},
   "outputs": [],
   "source": [
    "from datetime import datetime\n",
    "from typing import Tuple\n",
    "from pydantic import BaseModel\n"
   ]
  },
  {
   "cell_type": "code",
   "execution_count": 13,
   "metadata": {},
   "outputs": [
    {
     "name": "stdout",
     "output_type": "stream",
     "text": [
      "2020-12-02 00:00:00\n",
      "(10, 20)\n"
     ]
    }
   ],
   "source": [
    "class Delivery(BaseModel):\n",
    "    timestamp : datetime\n",
    "    dimensions : Tuple[int, int]\n",
    "\n",
    "m = Delivery(timestamp=\"2020-12-02\",  dimensions=['10',20])\n",
    "print(m.timestamp)\n",
    "print(m.dimensions)"
   ]
  },
  {
   "cell_type": "markdown",
   "metadata": {},
   "source": [
    "#### Validation Error Handling\n",
    "[UUID](https://docs.python.org/3/library/uuid.html)"
   ]
  },
  {
   "cell_type": "code",
   "execution_count": 49,
   "metadata": {},
   "outputs": [],
   "source": [
    "from uuid import UUID, uuid4\n",
    "from datetime import datetime\n",
    "from pydantic import BaseModel, PositiveInt\n",
    "from pydantic import ValidationError\n",
    "\n",
    "\n",
    "class User(BaseModel):\n",
    "    id :  UUID = uuid4()\n",
    "    name : str = \"Thar Htet\"\n",
    "    created_date : datetime | None = datetime.today()\n",
    "    user_data : dict[str,PositiveInt]"
   ]
  },
  {
   "cell_type": "code",
   "execution_count": 51,
   "metadata": {},
   "outputs": [
    {
     "name": "stdout",
     "output_type": "stream",
     "text": [
      "12345678-1234-5678-1234-567812345678\n",
      "{'id': UUID('12345678-1234-5678-1234-567812345678'), 'name': 'ths', 'created_date': datetime.datetime(2024, 7, 1, 0, 0), 'user_data': {'token': 90}}\n"
     ]
    }
   ],
   "source": [
    "user_data = {\"token\" : 90}\n",
    "user1 = User(id='12345678123456781234567812345678',\n",
    "            name=\"ths\",\n",
    "            created_date=\"2024-07-01\",\n",
    "            user_data=user_data)\n",
    "\n",
    "print(user1.id)\n",
    "print(user1.model_dump())\n",
    "\n"
   ]
  },
  {
   "cell_type": "code",
   "execution_count": 52,
   "metadata": {},
   "outputs": [
    {
     "name": "stdout",
     "output_type": "stream",
     "text": [
      "{'id': UUID('b69d7341-559b-4584-bb48-37aff223b096'), 'name': 'Thar Htet', 'created_date': datetime.datetime(2024, 7, 21, 15, 39, 14, 630926), 'user_data': {'token': 90}}\n"
     ]
    }
   ],
   "source": [
    "user_data = {\"token\" : 90}\n",
    "user2 = User(user_data=user_data)\n",
    "print(user2.model_dump())"
   ]
  },
  {
   "cell_type": "code",
   "execution_count": 55,
   "metadata": {},
   "outputs": [
    {
     "name": "stdout",
     "output_type": "stream",
     "text": [
      "[{'type': 'greater_than', 'loc': ('user_data', 'token'), 'msg': 'Input should be greater than 0', 'input': -90, 'ctx': {'gt': 0}, 'url': 'https://errors.pydantic.dev/2.8/v/greater_than'}]\n"
     ]
    }
   ],
   "source": [
    "try:\n",
    " \n",
    "    user_data = {\"token\" : -90}\n",
    "    user3 = User(user_data=user_data)\n",
    "    print(user3.id)\n",
    "except ValidationError as e:\n",
    "    print(e.errors())"
   ]
  },
  {
   "cell_type": "code",
   "execution_count": 57,
   "metadata": {},
   "outputs": [
    {
     "name": "stdout",
     "output_type": "stream",
     "text": [
      "hello\tworld\n"
     ]
    }
   ],
   "source": [
    "print(\"hello\", end=\"\\t\")\n",
    "print(\"world\")"
   ]
  },
  {
   "cell_type": "code",
   "execution_count": null,
   "metadata": {},
   "outputs": [],
   "source": []
  }
 ],
 "metadata": {
  "kernelspec": {
   "display_name": "ths",
   "language": "python",
   "name": "python3"
  },
  "language_info": {
   "codemirror_mode": {
    "name": "ipython",
    "version": 3
   },
   "file_extension": ".py",
   "mimetype": "text/x-python",
   "name": "python",
   "nbconvert_exporter": "python",
   "pygments_lexer": "ipython3",
   "version": "3.10.14"
  }
 },
 "nbformat": 4,
 "nbformat_minor": 2
}
