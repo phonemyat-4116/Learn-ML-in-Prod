{
 "cells": [
  {
   "cell_type": "code",
   "execution_count": 2,
   "metadata": {},
   "outputs": [],
   "source": [
    "import numpy as np\n",
    "import tensorflow as tf\n",
    "import matplotlib.pyplot as plt\n",
    "from sklearn.cluster import KMeans\n",
    "from sklearn.metrics import silhouette_score\n",
    "import os\n",
    "from PIL import Image\n",
    "import cv2\n",
    "import shutil"
   ]
  },
  {
   "cell_type": "code",
   "execution_count": 8,
   "metadata": {},
   "outputs": [],
   "source": [
    "root_path = \"/Users/tharhtet/Documents/github/ML-in-Prod-batch-1/4_machine_learning\"\n",
    "\n",
    "file_dir = ['fruits/Kiwi','fruits/Pear','fruits/Watermelon']\n",
    "images = []\n",
    "file_list = []\n",
    "\n",
    "for cur_class in file_dir:\n",
    "    temp_path = root_path+\"/\"+cur_class\n",
    "    for cur_file in os.listdir(temp_path):\n",
    "        read_path = temp_path+\"/\"+cur_file\n",
    "\n",
    "        \n",
    "        img = cv2.imread(read_path)\n",
    "        img = cv2.resize(img,(224,224))\n",
    "\n",
    "        images.append(img)\n",
    "        file_list.append(read_path)\n",
    "\n",
    "images= np.array(images)\n",
    "file_list = np.array(file_list)\n"
   ]
  },
  {
   "cell_type": "code",
   "execution_count": 10,
   "metadata": {},
   "outputs": [
    {
     "name": "stdout",
     "output_type": "stream",
     "text": [
      "Images shape:  (1401, 224, 224, 3)\n",
      "File list shape:  (1401,)\n"
     ]
    }
   ],
   "source": [
    "print(\"Images shape: \",images.shape)\n",
    "print(\"File list shape: \",file_list.shape)"
   ]
  },
  {
   "cell_type": "markdown",
   "metadata": {},
   "source": [
    "#### Feature Generate using pretrain model"
   ]
  },
  {
   "cell_type": "code",
   "execution_count": 12,
   "metadata": {},
   "outputs": [
    {
     "name": "stdout",
     "output_type": "stream",
     "text": [
      "44/44 [==============================] - 3s 52ms/step\n",
      "Features shape (1401, 62720)\n"
     ]
    }
   ],
   "source": [
    "model = tf.keras.applications.MobileNetV2(include_top=False, weights='imagenet', input_shape=(224, 224, 3))\n",
    "predictions = model.predict(images.reshape(-1, 224, 224, 3))\n",
    "features = predictions.reshape(images.shape[0], -1)\n",
    "print(\"Features shape\", features.shape)"
   ]
  },
  {
   "cell_type": "code",
   "execution_count": null,
   "metadata": {},
   "outputs": [],
   "source": []
  }
 ],
 "metadata": {
  "kernelspec": {
   "display_name": "ths",
   "language": "python",
   "name": "python3"
  },
  "language_info": {
   "codemirror_mode": {
    "name": "ipython",
    "version": 3
   },
   "file_extension": ".py",
   "mimetype": "text/x-python",
   "name": "python",
   "nbconvert_exporter": "python",
   "pygments_lexer": "ipython3",
   "version": "3.10.14"
  }
 },
 "nbformat": 4,
 "nbformat_minor": 2
}
